{
 "cells": [
  {
   "cell_type": "markdown",
   "metadata": {},
   "source": [
    "# Import Environment"
   ]
  },
  {
   "cell_type": "code",
   "execution_count": 1,
   "metadata": {
    "collapsed": false
   },
   "outputs": [],
   "source": [
    "# These are all the modules we'll be using later. Make sure you can import them\n",
    "# before proceeding further.\n",
    "from __future__ import print_function\n",
    "import matplotlib.pyplot as plt\n",
    "import numpy as np\n",
    "import os\n",
    "import sys\n",
    "import tarfile\n",
    "from IPython.display import display, Image\n",
    "from scipy import ndimage\n",
    "from sklearn.linear_model import LogisticRegression\n",
    "from six.moves.urllib.request import urlretrieve\n",
    "from six.moves import cPickle as pickle\n",
    "\n",
    "# Config the matplotlib backend as plotting inline in IPython\n",
    "%matplotlib inline"
   ]
  },
  {
   "cell_type": "markdown",
   "metadata": {},
   "source": [
    "# Extract Dataset into folders"
   ]
  },
  {
   "cell_type": "code",
   "execution_count": 2,
   "metadata": {
    "collapsed": false
   },
   "outputs": [
    {
     "name": "stdout",
     "output_type": "stream",
     "text": [
      "./notMNIST_large already present - Skipping extraction of ./notMNIST_large.tar.gz\n",
      "['./notMNIST_large/A', './notMNIST_large/B', './notMNIST_large/C', './notMNIST_large/D', './notMNIST_large/E', './notMNIST_large/F', './notMNIST_large/G', './notMNIST_large/H', './notMNIST_large/I', './notMNIST_large/J']\n",
      "./notMNIST_small already present - Skipping extraction of ./notMNIST_small.tar.gz\n",
      "['./notMNIST_small/A', './notMNIST_small/B', './notMNIST_small/C', './notMNIST_small/D', './notMNIST_small/E', './notMNIST_small/F', './notMNIST_small/G', './notMNIST_small/H', './notMNIST_small/I', './notMNIST_small/J']\n"
     ]
    }
   ],
   "source": [
    "num_classes=10\n",
    "np.random.seed(133)\n",
    "data_root='.'\n",
    "train_filename= os.path.join(data_root, 'notMNIST_large.tar.gz') #join os root and extention(dataroot)\n",
    "test_filename= os.path.join(data_root, 'notMNIST_small.tar.gz')\n",
    "\n",
    "def maybe_extract(filename, force=False):\n",
    "    root=os.path.splitext(os.path.splitext(filename)[0])[0] #splits the os root and extension \n",
    "    if os.path.isdir(root)and not force:\n",
    "        print('%s already present - Skipping extraction of %s' %(root, filename))\n",
    "    else:\n",
    "        print('extracting data %s.this may take a while .please wait.' %root)\n",
    "        tar=tarfile.open(filename)\n",
    "        sys.stdout.flush()\n",
    "        tar.extractall(data_root)\n",
    "        tar.close()\n",
    "    data_folders = [\n",
    "        os.path.join(root, d)for d in sorted(os.listdir(root)) #listing all the classes directory\n",
    "        if os.path.isdir(os.path.join(root, d))]\n",
    "    if len(data_folders) !=num_classes: #checks lengths\n",
    "        raise Exception(\n",
    "            'Expected %d folders , one per class. found %d instead.' % (\n",
    "                num_classes,len(data_folders)))\n",
    "    print(data_folders)\n",
    "    return data_folders\n",
    "    \n",
    "    \n",
    "train_folders= maybe_extract(train_filename)\n",
    "test_folders=maybe_extract(test_filename)\n",
    "            \n",
    "        \n",
    "    \n",
    "    \n",
    "    "
   ]
  },
  {
   "cell_type": "markdown",
   "metadata": {},
   "source": []
  },
  {
   "cell_type": "code",
   "execution_count": null,
   "metadata": {
    "collapsed": true
   },
   "outputs": [],
   "source": [
    "\n",
    "    "
   ]
  },
  {
   "cell_type": "markdown",
   "metadata": {},
   "source": [
    "# Convert image into npArray and save into pickle file with seperate class"
   ]
  },
  {
   "cell_type": "code",
   "execution_count": null,
   "metadata": {
    "collapsed": true
   },
   "outputs": [],
   "source": []
  },
  {
   "cell_type": "code",
   "execution_count": 3,
   "metadata": {
    "collapsed": false,
    "scrolled": true
   },
   "outputs": [
    {
     "name": "stdout",
     "output_type": "stream",
     "text": [
      "./notMNIST_large/A.pickle already present - skipping pickling.\n",
      "./notMNIST_large/B.pickle already present - skipping pickling.\n",
      "./notMNIST_large/C.pickle already present - skipping pickling.\n",
      "./notMNIST_large/D.pickle already present - skipping pickling.\n",
      "./notMNIST_large/E.pickle already present - skipping pickling.\n",
      "./notMNIST_large/F.pickle already present - skipping pickling.\n",
      "./notMNIST_large/G.pickle already present - skipping pickling.\n",
      "./notMNIST_large/H.pickle already present - skipping pickling.\n",
      "./notMNIST_large/I.pickle already present - skipping pickling.\n",
      "./notMNIST_large/J.pickle already present - skipping pickling.\n",
      "./notMNIST_small/A.pickle already present - skipping pickling.\n",
      "./notMNIST_small/B.pickle already present - skipping pickling.\n",
      "./notMNIST_small/C.pickle already present - skipping pickling.\n",
      "./notMNIST_small/D.pickle already present - skipping pickling.\n",
      "./notMNIST_small/E.pickle already present - skipping pickling.\n",
      "./notMNIST_small/F.pickle already present - skipping pickling.\n",
      "./notMNIST_small/G.pickle already present - skipping pickling.\n",
      "./notMNIST_small/H.pickle already present - skipping pickling.\n",
      "./notMNIST_small/I.pickle already present - skipping pickling.\n",
      "./notMNIST_small/J.pickle already present - skipping pickling.\n"
     ]
    }
   ],
   "source": [
    "image_size=28 #pixel width and height\n",
    "pixel_depth=255.0 #Nurmber of levels per pixel\n",
    "\n",
    "def load_letter(folder, min_num_images):\n",
    "    \"\"\"Load the data for a single letter label\"\"\"\n",
    "    image_files=os.listdir(folder)\n",
    "    dataset=np.ndarray(shape=(len(image_files),image_size, image_size),dtype=np.float32)\n",
    "    #print(folder)\n",
    "    num_images=0\n",
    "    for image in image_files:\n",
    "        image_file=os.path.join(folder,image)\n",
    "        try:\n",
    "            image_data=(ndimage.imread(image_file).astype(float) - pixel_depth /2)/pixel_depth\n",
    "            #print(image_data.shape)\n",
    "            if image_data.shape !=(image_size,image_size):\n",
    "                raise Exception('Unexpected image shape: %s' % str(image_data.shape))\n",
    "            dataset[num_images,:,:]=image_data\n",
    "            num_images=num_images + 1\n",
    "        except IOError as e:\n",
    "            print('couldnot read :', image_file , ':', e , '-it\\'s ok , skipping.')\n",
    "    dataset=dataset[0:num_images, :, :]\n",
    "    if num_images < min_num_images:\n",
    "        raise Exception('many fewer images then expected: %d < %d' % (num_images, min_num_images))\n",
    "    print('Full dataset tensor:', dataset.shape)\n",
    "    print('mean:', np.mean(dataset))\n",
    "    print('standard deviation:', np.std(dataset))\n",
    "    return dataset\n",
    "\n",
    "def maybe_pickle(data_folders, min_num_images_per_class, force=False):\n",
    "    dataset_names=[]\n",
    "    for folder in data_folders:\n",
    "        set_filename=folder+ '.pickle'\n",
    "        dataset_names.append(set_filename)\n",
    "        if os.path.exists(set_filename)and not force:\n",
    "            print('%s already present - skipping pickling.' % set_filename)\n",
    "        else:\n",
    "            print('pickling %s.' % set_filename)\n",
    "            dataset=load_letter(folder,min_num_images_per_class)\n",
    "            try:\n",
    "                with open(set_filename, 'wb')as f:\n",
    "                    pickle.dump(dataset,f, pickle.HIGHEST_PROTOCOL)\n",
    "            except Exception as e:\n",
    "                print('Unable to save data to', set_filename, ':',e)\n",
    "    return dataset_names\n",
    "train_datasets=maybe_pickle(train_folders, 45000)#Not MNIST Large\n",
    "test_datasets=maybe_pickle(test_folders, 1800)#Not MNIST SMALL\n",
    "#print (train_dataset.shape)\n",
    "\n"
   ]
  },
  {
   "cell_type": "markdown",
   "metadata": {},
   "source": [
    "# Access images from pickle and plotting"
   ]
  },
  {
   "cell_type": "code",
   "execution_count": 4,
   "metadata": {
    "collapsed": false
   },
   "outputs": [
    {
     "name": "stdout",
     "output_type": "stream",
     "text": [
      "(52909, 28, 28)\n",
      "41480656\n",
      "[[-0.5        -0.5        -0.5        -0.5        -0.5        -0.5        -0.5\n",
      "  -0.5        -0.5        -0.5        -0.5        -0.5        -0.5        -0.5\n",
      "  -0.49607843 -0.5        -0.47647059  0.04117647 -0.05294118 -0.5\n",
      "  -0.48823529 -0.5        -0.5        -0.5        -0.5        -0.5        -0.5\n",
      "  -0.5       ]\n",
      " [-0.5        -0.5        -0.5        -0.5        -0.5        -0.5        -0.5\n",
      "  -0.5        -0.5        -0.5        -0.5        -0.5        -0.5\n",
      "  -0.49215686 -0.5        -0.43333334 -0.07647059 -0.34705883  0.02156863\n",
      "  -0.35490197 -0.5        -0.49607843 -0.5        -0.5        -0.5        -0.5\n",
      "  -0.5        -0.5       ]\n",
      " [-0.5        -0.5        -0.5        -0.5        -0.5        -0.5        -0.5\n",
      "  -0.5        -0.5        -0.5        -0.5        -0.5        -0.49607843\n",
      "  -0.49607843 -0.5         0.0882353  -0.05686275 -0.43725491 -0.17843138\n",
      "   0.05686275 -0.5        -0.49215686 -0.5        -0.5        -0.5        -0.5\n",
      "  -0.5        -0.5       ]\n",
      " [-0.5        -0.5        -0.5        -0.5        -0.5        -0.5        -0.5\n",
      "  -0.5        -0.5        -0.5        -0.5        -0.49607843 -0.5\n",
      "  -0.43333334 -0.00196078  0.06470589  0.09607843  0.14313726  0.08039216\n",
      "   0.05686275 -0.47254902 -0.5        -0.5        -0.5        -0.5        -0.5\n",
      "  -0.5        -0.5       ]\n",
      " [-0.5        -0.5        -0.5        -0.5        -0.5        -0.5        -0.5\n",
      "  -0.5        -0.5        -0.5        -0.5        -0.49215686 -0.5\n",
      "   0.02156863 -0.19803922 -0.43725491 -0.27254903 -0.17450981 -0.06862745\n",
      "  -0.01764706 -0.11176471 -0.5        -0.49607843 -0.5        -0.5        -0.5\n",
      "  -0.5        -0.5       ]\n",
      " [-0.5        -0.5        -0.5        -0.5        -0.5        -0.5        -0.5\n",
      "  -0.5        -0.5        -0.5        -0.48823529 -0.5        -0.12352941\n",
      "  -0.07254902 -0.5        -0.49215686 -0.5        -0.5        -0.49215686\n",
      "  -0.5        -0.05294118 -0.27254903 -0.5        -0.49215686 -0.5        -0.5\n",
      "  -0.5        -0.5       ]\n",
      " [-0.5        -0.5        -0.5        -0.5        -0.5        -0.5        -0.5\n",
      "  -0.5        -0.5        -0.49215686 -0.5        -0.29215688  0.0372549\n",
      "  -0.5        -0.49215686 -0.49607843 -0.49215686 -0.48823529 -0.48431373\n",
      "  -0.5        -0.40196079 -0.01764706 -0.5        -0.49607843 -0.5        -0.5\n",
      "  -0.5        -0.5       ]\n",
      " [-0.5        -0.5        -0.5        -0.5        -0.5        -0.5        -0.5\n",
      "  -0.5        -0.49607843 -0.5        -0.42941177  0.06862745 -0.40196079\n",
      "  -0.5        -0.49215686 -0.49215686 -0.49607843 -0.5        -0.5\n",
      "  -0.48823529 -0.5        -0.11568628 -0.25294119 -0.5        -0.49215686\n",
      "  -0.5        -0.5        -0.5       ]\n",
      " [-0.5        -0.5        -0.5        -0.5        -0.5        -0.5        -0.5\n",
      "  -0.5        -0.49215686 -0.5         0.00196078 -0.26078433 -0.5\n",
      "  -0.48039216 -0.5        -0.5        -0.49607843 -0.49607843 -0.5\n",
      "  -0.49607843 -0.5        -0.42156863 -0.06078431 -0.48823529 -0.49607843\n",
      "  -0.49215686 -0.5        -0.5       ]\n",
      " [-0.5        -0.5        -0.5        -0.5        -0.5        -0.5        -0.5\n",
      "  -0.48823529 -0.5        -0.13137256 -0.11568628 -0.5        -0.48039216\n",
      "  -0.5        -0.4137255  -0.03333334 -0.12745099 -0.5        -0.49215686\n",
      "  -0.5        -0.49607843 -0.49607843 -0.07647059 -0.28823531 -0.47254902\n",
      "  -0.5        -0.49607843 -0.5       ]\n",
      " [-0.5        -0.5        -0.5        -0.5        -0.5        -0.5\n",
      "  -0.49215686 -0.5        -0.28431374  0.00196078 -0.5        -0.5\n",
      "  -0.44901961 -0.13529412 -0.03333334 -0.32745099  0.02156863 -0.3392157\n",
      "  -0.5        -0.48431373 -0.5        -0.24117647 -0.06078431  0.05294118\n",
      "  -0.05294118 -0.41764706 -0.5        -0.49607843]\n",
      " [-0.5        -0.5        -0.5        -0.5        -0.5        -0.49607843\n",
      "  -0.5        -0.42941177  0.0372549  -0.41764706 -0.5        -0.44509804\n",
      "   0.04509804 -0.2764706  -0.49215686 -0.5        -0.28823531 -0.06078431\n",
      "  -0.5        -0.5        -0.44901961 -0.06470589 -0.0372549  -0.36666667\n",
      "  -0.39411765  0.0254902  -0.46470588 -0.5       ]\n",
      " [-0.5        -0.5        -0.5        -0.49607843 -0.48823529 -0.49215686\n",
      "  -0.5        -0.01372549 -0.29215688 -0.5        -0.49607843 -0.48823529\n",
      "   0.01372549 -0.46078432 -0.5        -0.5        -0.48431373  0.11176471\n",
      "  -0.35882354 -0.5        -0.19019608 -0.03333334 -0.06862745 -0.5\n",
      "  -0.38235295 -0.05294118 -0.5        -0.5       ]\n",
      " [-0.5        -0.5        -0.49607843 -0.49607843 -0.49215686 -0.5\n",
      "  -0.14313726 -0.14313726 -0.5        -0.48823529 -0.48823529 -0.5\n",
      "  -0.14705883 -0.12745099 -0.31176472 -0.07254902 -0.01372549 -0.10392157\n",
      "  -0.43333334 -0.5        -0.35490197 -0.00980392  0.00588235 -0.44901961\n",
      "  -0.04901961 -0.27254903 -0.5        -0.49215686]\n",
      " [-0.5        -0.49607843 -0.5        -0.39019608 -0.03333334 -0.17058824\n",
      "  -0.08039216 -0.49215686 -0.49607843 -0.5        -0.49607843 -0.5\n",
      "  -0.42156863 -0.06078431 -0.19411765 -0.34313726 -0.48431373 -0.5        -0.5\n",
      "  -0.48823529 -0.5        -0.12745099  0.01372549 -0.13529412 -0.3509804\n",
      "  -0.06470589 -0.48823529 -0.5       ]\n",
      " [-0.48823529 -0.5        -0.25686276 -0.0372549  -0.24117647  0.04117647\n",
      "  -0.12745099 -0.5        -0.49607843 -0.5        -0.5        -0.5\n",
      "  -0.49607843 -0.5        -0.5        -0.5        -0.5        -0.48823529\n",
      "  -0.49607843 -0.49607843 -0.5        -0.39411765 -0.01372549  0.03333334\n",
      "  -0.4137255  -0.25294119 -0.04117647 -0.5       ]\n",
      " [-0.49215686 -0.5        -0.2254902  -0.14313726 -0.5        -0.0372549\n",
      "  -0.02941176 -0.37058824 -0.5        -0.49607843 -0.5        -0.5        -0.5\n",
      "  -0.49215686 -0.49215686 -0.49607843 -0.5        -0.5        -0.5        -0.5\n",
      "  -0.49215686 -0.5        -0.16666667  0.01372549 -0.07254902 -0.09215686\n",
      "  -0.26078433 -0.5       ]\n",
      " [-0.5        -0.5        -0.43725491 -0.0254902  -0.5        -0.17450981\n",
      "   0.01764706 -0.2372549  -0.5        -0.49215686 -0.5        -0.5\n",
      "  -0.49215686 -0.48823529 -0.48823529 -0.48823529 -0.49215686 -0.49607843\n",
      "  -0.5        -0.5        -0.5        -0.5        -0.43725491 -0.0372549\n",
      "   0.05294118 -0.11568628 -0.5        -0.49215686]\n",
      " [-0.5        -0.2647059  -0.00588235 -0.04509804 -0.5        -0.33529413\n",
      "   0.00588235 -0.10784314 -0.5        -0.49215686 -0.5        -0.5        -0.5\n",
      "  -0.5        -0.5        -0.5        -0.5        -0.5        -0.5        -0.5\n",
      "  -0.5        -0.48823529 -0.5        -0.18235295 -0.1627451  -0.5\n",
      "  -0.48431373 -0.5       ]\n",
      " [-0.5        -0.11568628 -0.10392157 -0.5        -0.48823529 -0.48431373\n",
      "  -0.07254902 -0.01372549 -0.42156863 -0.5        -0.49607843 -0.5\n",
      "  -0.13921569 -0.07254902 -0.13529412 -0.17843138 -0.2254902  -0.4254902\n",
      "  -0.5        -0.49607843 -0.5        -0.5        -0.5        -0.48039216\n",
      "   0.01764706 -0.42156863 -0.5        -0.49607843]\n",
      " [-0.5        -0.43725491 -0.01372549 -0.48823529 -0.49607843 -0.49607843\n",
      "  -0.10784314  0.00588235 -0.23333333 -0.5        -0.5        -0.36274511\n",
      "   0.00196078 -0.45294118 -0.33529413 -0.28039217 -0.1627451   0.04901961\n",
      "  -0.49607843 -0.5        -0.5        -0.5        -0.49215686 -0.5\n",
      "  -0.2254902  -0.09607843 -0.5        -0.48823529]\n",
      " [-0.5        -0.24509804 -0.05294118 -0.48039216 -0.47254902 -0.13921569\n",
      "  -0.06470589 -0.02156863 -0.40588236 -0.5        -0.5        -0.13137256\n",
      "  -0.23333333 -0.5        -0.49215686 -0.48823529 -0.5        -0.07647059\n",
      "  -0.23333333 -0.5        -0.49215686 -0.5        -0.5        -0.49607843\n",
      "  -0.5        -0.00588235 -0.37843138 -0.5       ]\n",
      " [-0.04509804 -0.19019608 -0.5        -0.4254902  -0.1        -0.05294118\n",
      "  -0.05294118 -0.4254902  -0.5        -0.5        -0.48039216 -0.00588235\n",
      "  -0.44901961 -0.5        -0.49215686 -0.48823529 -0.5        -0.37058824\n",
      "   0.00196078 -0.5        -0.49607843 -0.5        -0.5        -0.49215686\n",
      "  -0.5        -0.29215688 -0.06862745 -0.5       ]\n",
      " [ 0.02941176 -0.35882354 -0.37843138 -0.06470589 -0.04901961 -0.09215686\n",
      "  -0.47254902 -0.5        -0.48823529 -0.5        -0.28823531 -0.10392157\n",
      "  -0.5        -0.48823529 -0.5        -0.5        -0.49215686 -0.5\n",
      "  -0.04117647 -0.30784315 -0.5        -0.49215686 -0.5        -0.49607843\n",
      "  -0.48431373 -0.5        -0.08431373 -0.33529413]\n",
      " [-0.31176472  0.10784314 -0.11960784 -0.09607843 -0.15882353 -0.49607843\n",
      "  -0.48823529 -0.48823529 -0.49215686 -0.5        -0.10392157 -0.33137256\n",
      "  -0.5        -0.49215686 -0.5        -0.5        -0.49607843 -0.5\n",
      "  -0.31176472 -0.06862745 -0.5        -0.47647059 -0.49215686 -0.5        -0.5\n",
      "  -0.46862745 -0.05294118 -0.05294118]\n",
      " [-0.49215686 -0.30392158 -0.02156863  0.06470589 -0.46862745 -0.5\n",
      "  -0.49607843 -0.5        -0.5        -0.45294118 -0.05686275 -0.5        -0.5\n",
      "  -0.5        -0.5        -0.5        -0.5        -0.49607843 -0.5\n",
      "  -0.02156863 -0.39019608 -0.5        -0.49215686 -0.3392157  -0.1\n",
      "  -0.03333334 -0.22941177 -0.46862745]\n",
      " [-0.49607843 -0.5        -0.37843138 -0.22156863 -0.07647059 -0.07647059\n",
      "  -0.17058824 -0.31176472 -0.5        -0.26078433 -0.19019608 -0.5\n",
      "  -0.49215686 -0.5        -0.5        -0.5        -0.5        -0.49215686\n",
      "  -0.5        -0.25686276 -0.06470589 -0.28823531 -0.04117647 -0.10392157\n",
      "  -0.33137256 -0.49607843 -0.5        -0.5       ]\n",
      " [-0.5        -0.49215686 -0.49607843 -0.5        -0.5        -0.43725491\n",
      "  -0.2764706  -0.12745099 -0.06078431  0.0372549  -0.4137255  -0.5\n",
      "  -0.49607843 -0.5        -0.5        -0.5        -0.5        -0.5        -0.5\n",
      "  -0.48431373 -0.01764706 -0.13137256 -0.4254902  -0.5        -0.5\n",
      "  -0.49607843 -0.48823529 -0.49607843]]\n"
     ]
    },
    {
     "data": {
      "image/png": "[encoded data removed]",
      "text/plain": [
       "<matplotlib.figure.Figure at 0x7f0b9cd9d8d0>"
      ]
     },
     "metadata": {},
     "output_type": "display_data"
    }
   ],
   "source": [
    "\n",
    "import matplotlib.image as mpimg\n",
    "read_pickle = pickle.load( open( \"notMNIST_large/A.pickle\", \"rb\" ) )\n",
    "print (read_pickle.shape)\n",
    "print (read_pickle.size)\n",
    "#print (read_pickle)\n",
    "print (read_pickle[0])\n",
    "imgplot = plt.imshow(read_pickle[0])\n"
   ]
  },
  {
   "cell_type": "markdown",
   "metadata": {},
   "source": [
    "# shuffle images from each class to have random validation and training set then merge each classes into a single dataset"
   ]
  },
  {
   "cell_type": "code",
   "execution_count": 5,
   "metadata": {
    "collapsed": false
   },
   "outputs": [
    {
     "name": "stdout",
     "output_type": "stream",
     "text": [
      "training:  (200000, 28, 28) (200000,)\n",
      "validation : (10000, 28, 28) (10000,)\n",
      "test : (10000, 28, 28) (10000,)\n"
     ]
    }
   ],
   "source": [
    "#print (train_dataset.shape)\n",
    "def make_arrays(nb_rows, img_size):\n",
    "    if nb_rows:\n",
    "        dataset=np.ndarray((nb_rows, img_size , img_size), dtype=np.float32)\n",
    "        labels=np.ndarray(nb_rows,dtype=np.float32)\n",
    "    else:\n",
    "        dataset,labels=None, None\n",
    "    return dataset,labels\n",
    "def merge_datasets(pickle_files,train_size, valid_size=0):\n",
    "    num_classes= len(pickle_files)\n",
    "    valid_dataset, valid_labels= make_arrays(valid_size, image_size)#for validation \n",
    "    train_dataset, train_labels= make_arrays(train_size, image_size)\n",
    "    vsize_per_class= valid_size // num_classes\n",
    "    tsize_per_class= train_size // num_classes\n",
    "    \n",
    "    start_v,start_t =0 , 0\n",
    "    end_v, end_t =vsize_per_class , tsize_per_class\n",
    "    end_l=vsize_per_class+tsize_per_class\n",
    "    for label, pickle_file in enumerate(pickle_files):#label=value or index of pickle files,example A,B,C,D\n",
    "        try:\n",
    "            with open(pickle_file, 'rb') as f:\n",
    "                letter_set=pickle.load(f)\n",
    "                #shuffle the letters to have random validation and training set\n",
    "                np.random.shuffle(letter_set)\n",
    "                if valid_dataset is not None:\n",
    "                    valid_letter=letter_set[:vsize_per_class, : , :]\n",
    "                    valid_dataset[start_v:end_v, : , :] = valid_letter\n",
    "                    valid_labels[start_v:end_v]= label\n",
    "                    start_v +=vsize_per_class\n",
    "                    end_v += vsize_per_class\n",
    "                    \n",
    "                train_letter= letter_set[vsize_per_class:end_l, :, :]\n",
    "                train_dataset[start_t:end_t, : ,:]=train_letter\n",
    "                train_labels[start_t:end_t]=label\n",
    "                start_t +=tsize_per_class\n",
    "                end_t += tsize_per_class\n",
    "        except Exception as e:\n",
    "            print('unable to process data from', pickle_file, '.', e)\n",
    "            raise\n",
    "    return valid_dataset,valid_labels,train_dataset, train_labels\n",
    "\n",
    "train_size= 200000\n",
    "valid_size=10000\n",
    "test_size=10000\n",
    "\n",
    "valid_dataset, valid_labels,train_dataset,train_labels = merge_datasets(train_datasets, train_size , valid_size)\n",
    "_, _, test_dataset, test_labels=merge_datasets(test_datasets,test_size)\n",
    "\n",
    "print('training: ' ,train_dataset.shape , train_labels.shape)\n",
    "print('validation :' , valid_dataset.shape , valid_labels.shape)\n",
    "print('test :', test_dataset.shape , test_labels.shape)\n",
    "                    \n",
    "                \n",
    "    \n",
    "        "
   ]
  },
  {
   "cell_type": "markdown",
   "metadata": {},
   "source": [
    "# randomly shuffling whole dataset using permutation"
   ]
  },
  {
   "cell_type": "code",
   "execution_count": 6,
   "metadata": {
    "collapsed": false
   },
   "outputs": [
    {
     "name": "stdout",
     "output_type": "stream",
     "text": [
      "200000\n",
      "[ 82544 184777 127251 ...,  54720  86392  96194]\n",
      "10000\n",
      "[3480 6566 4543 ..., 6790 9016  268]\n",
      "10000\n",
      "[1927 9112 3615 ..., 8250 9495 8617]\n"
     ]
    }
   ],
   "source": [
    "def randomize(dataset, labels):\n",
    "    permutation = np.random.permutation(labels.shape[0])\n",
    "    print (labels.shape[0])\n",
    "    print (permutation)\n",
    "    shuffled_dataset= dataset[permutation, : , :]\n",
    "    shuffled_labels= labels[permutation]\n",
    "    return shuffled_dataset, shuffled_labels\n",
    "train_dataset , train_labels = randomize(train_dataset, train_labels)\n",
    "test_dataset , test_labels = randomize(test_dataset, test_labels)\n",
    "valid_dataset , valid_labels = randomize(valid_dataset, valid_labels)\n",
    "\n",
    "    \n",
    "    \n"
   ]
  },
  {
   "cell_type": "code",
   "execution_count": 26,
   "metadata": {
    "collapsed": false,
    "scrolled": true
   },
   "outputs": [
    {
     "name": "stdout",
     "output_type": "stream",
     "text": [
      "4.0\n"
     ]
    },
    {
     "data": {
      "image/png": "[encoded data removed]",
      "text/plain": [
       "<matplotlib.figure.Figure at 0x7f991002e9d0>"
      ]
     },
     "metadata": {},
     "output_type": "display_data"
    }
   ],
   "source": [
    "imgplot = plt.imshow(train_dataset [0])\n",
    "print (train_labels[0])"
   ]
  },
  {
   "cell_type": "markdown",
   "metadata": {},
   "source": [
    "# saving data into pickle to reuse "
   ]
  },
  {
   "cell_type": "code",
   "execution_count": 7,
   "metadata": {
    "collapsed": false
   },
   "outputs": [],
   "source": [
    "pickle_file = os.path.join(data_root, 'notMNIST.pickle')\n",
    "try:\n",
    "    f = open(pickle_file , 'wb')\n",
    "    save= {\n",
    "        'train_dataset' : train_dataset,\n",
    "        'train_labels'  : train_labels,\n",
    "        'valid_dataset' : valid_dataset,\n",
    "        'valid_labels'  : valid_labels,\n",
    "        'test_dataset'  : test_dataset,\n",
    "        'test_labels'    : test_labels,\n",
    "    }\n",
    "    pickle.dump(save, f , pickle.HIGHEST_PROTOCOL)\n",
    "    f.close()\n",
    "except Exception as e:\n",
    "    print('unable to save data to', pickle_file , ':', e)\n",
    "    raise"
   ]
  },
  {
   "cell_type": "code",
   "execution_count": 8,
   "metadata": {
    "collapsed": false
   },
   "outputs": [
    {
     "name": "stdout",
     "output_type": "stream",
     "text": [
      "compressed pickcle size: 690800406\n"
     ]
    }
   ],
   "source": [
    "statinfo= os.stat(pickle_file)\n",
    "print('compressed pickcle size:', statinfo.st_size)"
   ]
  },
  {
   "cell_type": "markdown",
   "metadata": {},
   "source": [
    "# removing duplicate data "
   ]
  },
  {
   "cell_type": "code",
   "execution_count": 9,
   "metadata": {
    "collapsed": false,
    "scrolled": true
   },
   "outputs": [
    {
     "name": "stdout",
     "output_type": "stream",
     "text": [
      "[[[-0.5        -0.48823529 -0.13529412 ..., -0.37058824 -0.5        -0.49607843]\n",
      "  [-0.5        -0.28431374  0.5        ..., -0.24117647 -0.5        -0.48823529]\n",
      "  [-0.5        -0.19019608  0.47254902 ..., -0.35882354 -0.5        -0.49215686]\n",
      "  ..., \n",
      "  [ 0.18627451  0.48823529 -0.12745099 ...,  0.37058824  0.5        -0.07254902]\n",
      "  [ 0.26078433  0.5         0.5        ...,  0.5         0.5        -0.04117647]\n",
      "  [ 0.00196078  0.05686275  0.0372549  ...,  0.45686275  0.5         0.00980392]]\n",
      "\n",
      " [[-0.5        -0.5        -0.5        ...,  0.5         0.5         0.5       ]\n",
      "  [-0.5        -0.5        -0.5        ...,  0.5         0.5         0.5       ]\n",
      "  [-0.5        -0.5        -0.5        ...,  0.5         0.5         0.5       ]\n",
      "  ..., \n",
      "  [ 0.5         0.5         0.49607843 ...,  0.49607843  0.5         0.49607843]\n",
      "  [-0.0254902   0.3392157   0.48431373 ...,  0.47647059  0.32352942\n",
      "   -0.05294118]\n",
      "  [-0.5        -0.37450981 -0.1509804  ..., -0.1627451  -0.38235295 -0.5       ]]\n",
      "\n",
      " [[-0.5        -0.5        -0.5        ..., -0.5        -0.5        -0.5       ]\n",
      "  [-0.5        -0.5        -0.5        ..., -0.5        -0.49607843 -0.5       ]\n",
      "  [-0.5        -0.5        -0.5        ..., -0.5        -0.48823529 -0.5       ]\n",
      "  ..., \n",
      "  [-0.5        -0.5        -0.49215686 ..., -0.12745099 -0.5        -0.48431373]\n",
      "  [-0.5        -0.5        -0.5        ..., -0.43333334 -0.5        -0.49607843]\n",
      "  [-0.5        -0.5        -0.5        ..., -0.5        -0.5        -0.5       ]]\n",
      "\n",
      " ..., \n",
      " [[-0.5        -0.5        -0.48431373 ..., -0.49215686 -0.49607843 -0.5       ]\n",
      "  [-0.5        -0.48431373 -0.5        ..., -0.5        -0.48823529 -0.5       ]\n",
      "  [-0.48431373 -0.5        -0.24117647 ..., -0.01372549 -0.5        -0.48039216]\n",
      "  ..., \n",
      "  [-0.48431373 -0.5        -0.00196078 ...,  0.22941177 -0.47647059\n",
      "   -0.49607843]\n",
      "  [-0.49607843 -0.48823529 -0.5        ..., -0.44901961 -0.5        -0.49215686]\n",
      "  [-0.5        -0.49607843 -0.48823529 ..., -0.5        -0.48823529 -0.5       ]]\n",
      "\n",
      " [[-0.5        -0.5        -0.5        ..., -0.10392157  0.00196078\n",
      "   -0.3509804 ]\n",
      "  [-0.5        -0.5        -0.5        ..., -0.5        -0.35882354\n",
      "   -0.46470588]\n",
      "  [-0.5        -0.5        -0.5        ..., -0.48431373  0.08431373\n",
      "    0.1627451 ]\n",
      "  ..., \n",
      "  [-0.07254902  0.1         0.18235295 ..., -0.5        -0.5        -0.5       ]\n",
      "  [-0.48823529  0.35882354  0.5        ..., -0.5        -0.5        -0.5       ]\n",
      "  [-0.36274511  0.44901961  0.48431373 ..., -0.5        -0.5        -0.5       ]]\n",
      "\n",
      " [[-0.5        -0.5        -0.5        ...,  0.0882353  -0.31176472 -0.5       ]\n",
      "  [-0.5        -0.5        -0.5        ...,  0.5         0.37058824\n",
      "   -0.38627452]\n",
      "  [-0.5        -0.5        -0.5        ...,  0.31568629  0.5        -0.20588236]\n",
      "  ..., \n",
      "  [-0.5         0.31960785  0.5        ..., -0.5        -0.5        -0.5       ]\n",
      "  [-0.5        -0.25294119  0.1627451  ..., -0.5        -0.5        -0.5       ]\n",
      "  [-0.5        -0.5        -0.5        ..., -0.5        -0.5        -0.5       ]]]\n",
      "Time: 2.04s\n",
      "valid -> train overlap: 1081 samples\n",
      "test  -> train overlap: 1278 samples\n",
      "test  -> valid overlap: 185 samples\n"
     ]
    }
   ],
   "source": [
    "import time\n",
    "import hashlib\n",
    "\n",
    "f=open(pickle_file, 'rb')\n",
    "read_pickle = pickle.load( f )\n",
    "train_dataset=read_pickle['train_dataset']\n",
    "print(train_dataset)\n",
    "train_labels=read_pickle['train_labels']\n",
    "valid_dataset=read_pickle['valid_dataset']\n",
    "valid_labels=read_pickle['valid_labels']\n",
    "test_dataset=read_pickle['test_dataset']\n",
    "test_labels=read_pickle['test_labels']\n",
    "\n",
    "\n",
    "\n",
    "t1 = time.time()\n",
    "\n",
    "train_hashes = [hashlib.sha1(x).digest() for x in train_dataset]\n",
    "valid_hashes = [hashlib.sha1(x).digest() for x in valid_dataset]\n",
    "test_hashes  = [hashlib.sha1(x).digest() for x in test_dataset]\n",
    "\n",
    "valid_in_train = np.in1d(valid_hashes, train_hashes)\n",
    "test_in_train  = np.in1d(test_hashes,  train_hashes)\n",
    "test_in_valid  = np.in1d(test_hashes,  valid_hashes)\n",
    "\n",
    "valid_keep = ~valid_in_train\n",
    "test_keep  = ~(test_in_train | test_in_valid)\n",
    "\n",
    "valid_dataset_clean = valid_dataset[valid_keep]\n",
    "valid_labels_clean  = valid_labels [valid_keep]\n",
    "\n",
    "test_dataset_clean = test_dataset[test_keep]\n",
    "test_labels_clean  = test_labels [test_keep]\n",
    "\n",
    "t2 = time.time()\n",
    "\n",
    "print(\"Time: %0.2fs\" % (t2 - t1))\n",
    "print(\"valid -> train overlap: %d samples\" % valid_in_train.sum())\n",
    "print(\"test  -> train overlap: %d samples\" % test_in_train.sum())\n",
    "print(\"test  -> valid overlap: %d samples\" % test_in_valid.sum())\n"
   ]
  },
  {
   "cell_type": "code",
   "execution_count": 10,
   "metadata": {
    "collapsed": false
   },
   "outputs": [
    {
     "name": "stdout",
     "output_type": "stream",
     "text": [
      "(8689, 28, 28)\n",
      "6812176\n",
      "(8919, 28, 28)\n",
      "6992496\n",
      "(200000, 28, 28)\n",
      "156800000\n"
     ]
    }
   ],
   "source": [
    "print (test_dataset_clean.shape)\n",
    "print (test_dataset_clean.size)\n",
    "print (valid_dataset_clean.shape)\n",
    "print (valid_dataset_clean.size)\n",
    "print (train_dataset.shape)\n",
    "print (train_dataset.size)\n",
    "\n"
   ]
  },
  {
   "cell_type": "markdown",
   "metadata": {},
   "source": [
    "# train model with logistic Regression"
   ]
  },
  {
   "cell_type": "code",
   "execution_count": 65,
   "metadata": {
    "collapsed": false,
    "scrolled": true
   },
   "outputs": [],
   "source": [
    "from sklearn.metrics import accuracy_score\n",
    "from sklearn.metrics import precision_score\n",
    "from sklearn.metrics import recall_score\n",
    "\n",
    "(samples,width,height)=train_dataset.shape\n",
    "num_samples=20000\n",
    "train_x=np.reshape(train_dataset,(samples,width*height))[0:num_samples]\n",
    "train_y=train_labels [0:num_samples]\n",
    "(samples,width,height)=test_dataset_clean.shape\n",
    "\n",
    "logistic =LogisticRegression(C=1e-1, solver=\"newton-cg\")\n",
    "fit_model=logistic.fit(train_x,train_y,sample_weight=None) #fit(X, y[, sample_weight])\n",
    "\n",
    "#fit_score=logistic.score(test_x, test_y, sample_weight=None)\n",
    "\n",
    "#print(fit_score)"
   ]
  },
  {
   "cell_type": "code",
   "execution_count": 66,
   "metadata": {
    "collapsed": false
   },
   "outputs": [
    {
     "name": "stdout",
     "output_type": "stream",
     "text": [
      "0.6\n",
      "0.725\n",
      "0.6\n"
     ]
    }
   ],
   "source": [
    "num_samples=10\n",
    "test_x=np.reshape(test_dataset_clean,(samples,width*height))[0:num_samples]\n",
    "test_y=test_labels [0:num_samples]\n",
    "pred=logistic.predict(test_x)\n",
    "acc_score=accuracy_score(test_y,pred)\n",
    "pre_score=precision_score(test_y,pred, average='weighted')\n",
    "re_score=recall_score(test_y,pred,average='weighted')\n",
    "print(acc_score)\n",
    "print(pre_score)\n",
    "print(re_score)"
   ]
  },
  {
   "cell_type": "code",
   "execution_count": null,
   "metadata": {
    "collapsed": true
   },
   "outputs": [],
   "source": []
  },
  {
   "cell_type": "code",
   "execution_count": null,
   "metadata": {
    "collapsed": true
   },
   "outputs": [],
   "source": []
  }
 ],
 "metadata": {
  "kernelspec": {
   "display_name": "Python 2",
   "language": "python",
   "name": "python2"
  },
  "language_info": {
   "codemirror_mode": {
    "name": "ipython",
    "version": 2
   },
   "file_extension": ".py",
   "mimetype": "text/x-python",
   "name": "python",
   "nbconvert_exporter": "python",
   "pygments_lexer": "ipython2",
   "version": "2.7.13"
  },
  "widgets": {
   "state": {},
   "version": "1.1.2"
  }
 },
 "nbformat": 4,
 "nbformat_minor": 2
}
