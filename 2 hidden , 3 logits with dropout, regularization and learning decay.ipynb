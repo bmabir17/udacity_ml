{
 "cells": [
  {
   "cell_type": "code",
   "execution_count": 3,
   "metadata": {
    "collapsed": true
   },
   "outputs": [],
   "source": [
    "from __future__ import print_function\n",
    "import matplotlib.pyplot as plt\n",
    "import numpy as np\n",
    "import tensorflow as tf\n",
    "from six.moves import cPickle as pickle"
   ]
  },
  {
   "cell_type": "code",
   "execution_count": 4,
   "metadata": {
    "collapsed": false
   },
   "outputs": [
    {
     "name": "stdout",
     "output_type": "stream",
     "text": [
      "training set (200000, 28, 28) (200000,)\n",
      "validation set (10000, 28, 28) (10000,)\n",
      "test set (10000, 28, 28) (10000,)\n"
     ]
    }
   ],
   "source": [
    "pickle_file= 'notMNIST.pickle'\n",
    "\n",
    "with open(pickle_file, 'rb') as f:\n",
    "    save=pickle.load(f)\n",
    "    train_dataset=save['train_dataset']\n",
    "    train_labels=save['train_labels']\n",
    "    valid_dataset=save['valid_dataset']\n",
    "    valid_labels=save['valid_labels']\n",
    "    test_dataset=save['test_dataset']\n",
    "    test_labels=save['test_labels']\n",
    "    del save #hint to help gc to free up memory \n",
    "    print('training set', train_dataset.shape,train_labels.shape)\n",
    "    print('validation set', valid_dataset.shape, valid_labels.shape)\n",
    "    print('test set', test_dataset.shape,test_labels.shape)\n",
    "    "
   ]
  },
  {
   "cell_type": "code",
   "execution_count": 5,
   "metadata": {
    "collapsed": false
   },
   "outputs": [
    {
     "name": "stdout",
     "output_type": "stream",
     "text": [
      "training set (200000, 784) (200000, 10)\n",
      "validation set (10000, 784) (10000, 10)\n",
      "test set (10000, 784) (10000, 10)\n"
     ]
    }
   ],
   "source": [
    "image_size=28\n",
    "num_labels=10\n",
    "\n",
    "def reformat(dataset, labels):\n",
    "    dataset=dataset.reshape((-1,image_size*image_size)).astype(np.float32)\n",
    "    # Map 1 to [0.0,1.0,0.0....], 2 to [0.0,0.0,1.0.....]\n",
    "    labels=(np.arange(num_labels) ==labels[:,None]).astype(np.float32)\n",
    "    return dataset,labels\n",
    "train_dataset, train_labels= reformat(train_dataset, train_labels)\n",
    "valid_dataset, valid_labels=reformat(valid_dataset, valid_labels)\n",
    "test_dataset, test_labels =reformat(test_dataset, test_labels)\n",
    "print( 'training set', train_dataset.shape,train_labels.shape)\n",
    "print('validation set', valid_dataset.shape,valid_labels.shape)\n",
    "print('test set', test_dataset.shape,test_labels.shape)"
   ]
  },
  {
   "cell_type": "code",
   "execution_count": 6,
   "metadata": {
    "collapsed": true
   },
   "outputs": [],
   "source": [
    "def accuracy(predictions, labels):\n",
    "    return(100.0*np.sum(np.argmax(predictions, 1)==np.argmax(labels,1))/ predictions.shape[0])"
   ]
  },
  {
   "cell_type": "code",
   "execution_count": 7,
   "metadata": {
    "collapsed": true
   },
   "outputs": [],
   "source": [
    "log_dir='Hidden_2layer_dropout_regularize__decay_log'\n",
    "\n",
    "def variable_summaries(var):\n",
    "  \"\"\"Attach a lot of summaries to a Tensor (for TensorBoard visualization).\"\"\"\n",
    "  with tf.name_scope('summaries'):\n",
    "    mean = tf.reduce_mean(var)\n",
    "    tf.summary.scalar('mean', mean)\n",
    "    with tf.name_scope('stddev'):\n",
    "        stddev = tf.sqrt(tf.reduce_mean(tf.square(var - mean)))\n",
    "    tf.summary.scalar('stddev', stddev)\n",
    "    tf.summary.scalar('max', tf.reduce_max(var))\n",
    "    tf.summary.scalar('min', tf.reduce_min(var))\n",
    "    tf.summary.histogram('histogram', var)\n",
    "if tf.gfile.Exists(log_dir):\n",
    "    tf.gfile.DeleteRecursively(log_dir)\n",
    "    tf.gfile.MakeDirs(log_dir)"
   ]
  },
  {
   "cell_type": "code",
   "execution_count": 2,
   "metadata": {
    "collapsed": false
   },
   "outputs": [
    {
     "ename": "NameError",
     "evalue": "name 'tf' is not defined",
     "output_type": "error",
     "traceback": [
      "\u001b[0;31m---------------------------------------------------------------------------\u001b[0m",
      "\u001b[0;31mNameError\u001b[0m                                 Traceback (most recent call last)",
      "\u001b[0;32m<ipython-input-2-62feb34859b6>\u001b[0m in \u001b[0;36m<module>\u001b[0;34m()\u001b[0m\n\u001b[1;32m      6\u001b[0m \u001b[0;31m#NumberofLayers=2 #(front layer+1 hidden layer)\u001b[0m\u001b[0;34m\u001b[0m\u001b[0;34m\u001b[0m\u001b[0m\n\u001b[1;32m      7\u001b[0m \u001b[0;34m\u001b[0m\u001b[0m\n\u001b[0;32m----> 8\u001b[0;31m \u001b[0msess\u001b[0m \u001b[0;34m=\u001b[0m \u001b[0mtf\u001b[0m\u001b[0;34m.\u001b[0m\u001b[0mInteractiveSession\u001b[0m\u001b[0;34m(\u001b[0m\u001b[0;34m)\u001b[0m\u001b[0;34m\u001b[0m\u001b[0m\n\u001b[0m\u001b[1;32m      9\u001b[0m \u001b[0mgraph\u001b[0m\u001b[0;34m=\u001b[0m\u001b[0mtf\u001b[0m\u001b[0;34m.\u001b[0m\u001b[0mGraph\u001b[0m\u001b[0;34m(\u001b[0m\u001b[0;34m)\u001b[0m\u001b[0;34m\u001b[0m\u001b[0m\n\u001b[1;32m     10\u001b[0m \u001b[0;32mwith\u001b[0m \u001b[0mgraph\u001b[0m\u001b[0;34m.\u001b[0m\u001b[0mas_default\u001b[0m\u001b[0;34m(\u001b[0m\u001b[0;34m)\u001b[0m\u001b[0;34m:\u001b[0m\u001b[0;34m\u001b[0m\u001b[0m\n",
      "\u001b[0;31mNameError\u001b[0m: name 'tf' is not defined"
     ]
    }
   ],
   "source": [
    "batch_size=128 #sgd minibatch size\n",
    "num_nodes=1024 \n",
    "hidden_nodes_2=int(num_nodes*0.5)\n",
    "SGDSTEP=0.5\n",
    "beta=0.01 #regularizer constant/learning rate\n",
    "#NumberofLayers=2 #(front layer+1 hidden layer)\n",
    "\n",
    "sess = tf.InteractiveSession()    \n",
    "graph=tf.Graph()\n",
    "with graph.as_default():\n",
    "    # Input data.For the training data,we use a placeholder to fed with a training mini batch\n",
    "    #at runtime with a training min i batch\n",
    "    tf_train_dataset= tf.placeholder(tf.float32, shape=(batch_size, image_size*image_size))\n",
    "    \n",
    "    tf_train_labels=tf.placeholder(tf.float32, shape=(batch_size, num_labels))\n",
    "    tf_valid_dataset=tf.constant(valid_dataset)\n",
    "    tf_test_dataset=tf.constant(test_dataset)\n",
    "    \n",
    "    #layer 1 weight and bias\n",
    "    with tf.name_scope('weights1'):\n",
    "        weights_1=tf.Variable(tf.truncated_normal([image_size*image_size,num_nodes]))\n",
    "        ##variable_summaries(weights_1)\n",
    "    with tf.name_scope('biases1'):\n",
    "        biases_1=tf.Variable(tf.zeros([num_nodes]))\n",
    "        ##variable_summaries(biases_1)\n",
    "        \n",
    "    #layer 2 weight and bias\n",
    "    with tf.name_scope('weights2'):\n",
    "        weights_2=tf.Variable(tf.truncated_normal([num_nodes, hidden_nodes_2]))\n",
    "        ##variable_summaries(weights_2)\n",
    "    with tf.name_scope('biases2'):\n",
    "        biases_2=tf.Variable(tf.zeros(hidden_nodes_2))\n",
    "        ##variable_summaries(biases_2)\n",
    "    \n",
    "    #output layer weight and bias\n",
    "    with tf.name_scope('weights3'):\n",
    "        weights_3=tf.Variable(tf.truncated_normal([hidden_nodes_2,num_labels]))\n",
    "        ##variable_summaries(weights_3)\n",
    "    with tf.name_scope('biases3'):\n",
    "        biases_3=tf.Variable(tf.zeros(num_labels))\n",
    "        ##variable_summaries(biases_3)\n",
    "    \n",
    "    #Logits1 with relu1\n",
    "    with tf.name_scope('W1x_plus_b1'):\n",
    "        preactivate = tf.matmul(tf_train_dataset,weights_1)+ biases_1\n",
    "        ##tf.summary.histogram('pre_activations1', preactivate)\n",
    "    relu_layer_1=tf.nn.relu(preactivate)\n",
    "    \n",
    "    #dropuout1\n",
    "    drop_prob= tf.placeholder(\"float\")\n",
    "    relu_layer_1_dropout=tf.nn.dropout(relu_layer_1, drop_prob)\n",
    "    ##tf.summary.histogram('activations', relu_layer_1_dropout)\n",
    "    \n",
    "    #Logits2 with relu2\n",
    "    preactivate_2 = tf.matmul(relu_layer_1_dropout,weights_2)+ biases_2\n",
    "    ##tf.summary.histogram('pre_activations1', preactivate_2)\n",
    "    relu_layer_2=tf.nn.relu(preactivate_2)\n",
    "    #dropuout2\n",
    "    \n",
    "    relu_layer_2_dropout=tf.nn.dropout(relu_layer_2, drop_prob)\n",
    "    ##tf.summary.histogram('activations', relu_layer_2_dropout)\n",
    "    \n",
    "    #Output Logits\n",
    "    \n",
    "    logits=tf.matmul(relu_layer_2_dropout,weights_3)+biases_3\n",
    "    #loss=tf.reduce_mean(tf.nn.softmax_cross_entropy_with_logits(logits, tf_train_labels))\n",
    "    #loss = tf.reduce_mean(tf.nn.softmax_cross_entropy_with_logits(labels=tf_train_labels,logits=logits))\n",
    "    \n",
    "    \n",
    "    with tf.name_scope('cross_entropy'):\n",
    "        # The raw formulation of cross-entropy,\n",
    "        #\n",
    "        # tf.reduce_mean(-tf.reduce_sum(y_ * tf.log(tf.softmax(y)),\n",
    "        #                               reduction_indices=[1]))\n",
    "        #\n",
    "        # can be numerically unstable.\n",
    "        #\n",
    "        # So here we use tf.nn.softmax_cross_entropy_with_logits on the\n",
    "        # raw outputs of the nn_layer above, and then average across\n",
    "        # the batch.\n",
    "        with tf.name_scope('total'):\n",
    "            #normal loss function\n",
    "            loss = tf.reduce_mean(tf.nn.softmax_cross_entropy_with_logits(logits=logits, labels=tf_train_labels))\n",
    "            #loss function with l2 regularaization with beta 0.01\n",
    "            regularizers=tf.nn.l2_loss(weights_1)+tf.nn.l2_loss(weights_2)+tf.nn.l2_loss(weights_3)\n",
    "            loss=tf.reduce_mean(loss+beta*regularizers)\n",
    "    tf.summary.scalar('cross_entropy', loss)\n",
    "\n",
    "    \n",
    "    #optimizer\n",
    "    with tf.name_scope('train'):\n",
    "        global_step=tf.Variable(0) #count the number of steps taken\n",
    "        start_learning_rate=0.5\n",
    "        ##learning_rate=tf.train.exponential_decay(start_learning_rate,global_step,100000,0.96,staircase=True)\n",
    "        optimizer=tf.train.GradientDescentOptimizer(learning_rate).minimize(loss,global_step=global_step)\n",
    "    \n",
    "    #predictions for training\n",
    "    train_prediction=tf.nn.softmax(logits)\n",
    "    \n",
    "    #Validation layer1\n",
    "    valid_logit1=tf.matmul(tf_valid_dataset, weights_1)+biases_1\n",
    "    valid_relu1=tf.nn.relu(valid_logit1)\n",
    "    \n",
    "    #Validation layer2\n",
    "    valid_logit2=tf.matmul(valid_relu1, weights_2)+biases_2\n",
    "    valid_relu2=tf.nn.relu(valid_logit2)\n",
    "    \n",
    "    #Validation layer3\n",
    "    valid_logit3=tf.matmul(valid_relu2, weights_3)+biases_3\n",
    "    \n",
    "    valid_prediction=tf.nn.softmax(valid_logit3)\n",
    "    \n",
    "    \n",
    "    #Test layer1\n",
    "    test_logit1=tf.matmul(tf_test_dataset, weights_1)+biases_1\n",
    "    test_relu1=tf.nn.relu(test_logit1)\n",
    "    \n",
    "    #Test layer2\n",
    "    test_logit2=tf.matmul(test_relu1, weights_2)+biases_2\n",
    "    test_relu2=tf.nn.relu(test_logit2)\n",
    "    \n",
    "    #Test layer2\n",
    "    test_logit3=tf.matmul(test_relu2, weights_3)+biases_3\n",
    "    \n",
    "    test_prediction=tf.nn.softmax(test_logit3)\n",
    "    \n",
    "    \n",
    "   \n",
    "    \n",
    "   \n",
    "    print(graph)\n",
    "    print(sess)"
   ]
  },
  {
   "cell_type": "code",
   "execution_count": 1,
   "metadata": {
    "collapsed": false
   },
   "outputs": [
    {
     "ename": "NameError",
     "evalue": "name 'tf' is not defined",
     "output_type": "error",
     "traceback": [
      "\u001b[0;31m---------------------------------------------------------------------------\u001b[0m",
      "\u001b[0;31mNameError\u001b[0m                                 Traceback (most recent call last)",
      "\u001b[0;32m<ipython-input-1-a07105dc399c>\u001b[0m in \u001b[0;36m<module>\u001b[0;34m()\u001b[0m\n\u001b[1;32m      1\u001b[0m \u001b[0mnum_steps\u001b[0m\u001b[0;34m=\u001b[0m\u001b[0;36m30001\u001b[0m\u001b[0;34m\u001b[0m\u001b[0m\n\u001b[1;32m      2\u001b[0m \u001b[0;34m\u001b[0m\u001b[0m\n\u001b[0;32m----> 3\u001b[0;31m \u001b[0;32mwith\u001b[0m \u001b[0mtf\u001b[0m\u001b[0;34m.\u001b[0m\u001b[0mSession\u001b[0m\u001b[0;34m(\u001b[0m\u001b[0mgraph\u001b[0m\u001b[0;34m=\u001b[0m\u001b[0mgraph\u001b[0m\u001b[0;34m)\u001b[0m \u001b[0;32mas\u001b[0m \u001b[0msess\u001b[0m\u001b[0;34m:\u001b[0m\u001b[0;34m\u001b[0m\u001b[0m\n\u001b[0m\u001b[1;32m      4\u001b[0m     \u001b[0;31m# Merge all the summaries and write them out to /tmp/mnist_logs (by default)\u001b[0m\u001b[0;34m\u001b[0m\u001b[0;34m\u001b[0m\u001b[0m\n\u001b[1;32m      5\u001b[0m     \u001b[0mmerged\u001b[0m \u001b[0;34m=\u001b[0m \u001b[0mtf\u001b[0m\u001b[0;34m.\u001b[0m\u001b[0msummary\u001b[0m\u001b[0;34m.\u001b[0m\u001b[0mmerge_all\u001b[0m\u001b[0;34m(\u001b[0m\u001b[0;34m)\u001b[0m\u001b[0;34m\u001b[0m\u001b[0m\n",
      "\u001b[0;31mNameError\u001b[0m: name 'tf' is not defined"
     ]
    }
   ],
   "source": [
    "num_steps=30001\n",
    "\n",
    "with tf.Session(graph=graph) as sess:\n",
    "    # Merge all the summaries and write them out to /tmp/mnist_logs (by default)\n",
    "    merged = tf.summary.merge_all()\n",
    "    train_writer = tf.summary.FileWriter(log_dir + '/train',sess.graph)\n",
    "    test_writer = tf.summary.FileWriter(log_dir + '/test')\n",
    "    tf.global_variables_initializer().run()\n",
    "    print(\"Initialized\")\n",
    "    c=0\n",
    "    \n",
    "    for step in range(num_steps):\n",
    "        #Pick an offset within taining data. which has been randomized.\n",
    "        # Note: we could use better randomization across epochs\n",
    "        offset= (step*batch_size) % (train_labels.shape[0] - batch_size) # we have used train_labels.shape[0] it is equal to the toatal no of image in the datasets\n",
    "        \n",
    "        #generate a minibatch , as SGD requires them\n",
    "        batch_data= train_dataset[offset:(offset+batch_size),:]\n",
    "        batch_labels= train_labels[offset:(offset+batch_size),:]\n",
    "        \n",
    "        #Prepare a dictionary telling the session where to feed the minibatch\n",
    "        # The Key of the dictinary is the placeholder node of the graph to be fed,\n",
    "        #and the value is the numpy array to feed to it.\n",
    "        feed_dict={tf_train_dataset: batch_data,tf_train_labels: batch_labels,drop_prob:0.5}\n",
    "        _,summary, l,predictions = sess.run( [optimizer,merged,loss, train_prediction], feed_dict=feed_dict)\n",
    "        test_writer.add_summary(summary, step)\n",
    "        \n",
    "        if (step % 500==0):\n",
    "            miniAccuracy=accuracy( valid_prediction.eval(), valid_labels)\n",
    "            print(\"Minibatch loss at step %d: %f\" % (step,l))\n",
    "            print(\"Minibatch accurracy: %.1f%%\" % miniAccuracy)\n",
    "            ##print (c)\n",
    "            ##step_array.append(step)\n",
    "            ##accuracy_array.append(miniAccuracy)\n",
    "            ##c=c+1\n",
    "            ##plt.plot(step,miniAccuracy)\n",
    "        print(\"Test Accuracy: %.1f%%\" % accuracy(test_prediction.eval(),test_labels))\n",
    "        \n",
    "        ##print(accuracy(test_predicton.eval(),test_labels))\n",
    "        \n",
    "sess.close()"
   ]
  },
  {
   "cell_type": "code",
   "execution_count": null,
   "metadata": {
    "collapsed": true
   },
   "outputs": [],
   "source": []
  }
 ],
 "metadata": {
  "kernelspec": {
   "display_name": "Python 2",
   "language": "python",
   "name": "python2"
  },
  "language_info": {
   "codemirror_mode": {
    "name": "ipython",
    "version": 2
   },
   "file_extension": ".py",
   "mimetype": "text/x-python",
   "name": "python",
   "nbconvert_exporter": "python",
   "pygments_lexer": "ipython2",
   "version": "2.7.13"
  },
  "widgets": {
   "state": {},
   "version": "1.1.2"
  }
 },
 "nbformat": 4,
 "nbformat_minor": 2
}
