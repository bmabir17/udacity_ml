{
 "cells": [
  {
   "cell_type": "markdown",
   "metadata": {},
   "source": [
    "# defination of neural networks\n"
   ]
  },
  {
   "cell_type": "code",
   "execution_count": null,
   "metadata": {
    "collapsed": true
   },
   "outputs": [],
   "source": [
    "__all__=(\n",
    "    'get_training_model',\n",
    "    'get_detect_model',\n",
    "    'WINDOW_SHAPE'\n",
    "\n",
    ")"
   ]
  },
  {
   "cell_type": "code",
   "execution_count": 1,
   "metadata": {
    "collapsed": false
   },
   "outputs": [
    {
     "ename": "ImportError",
     "evalue": "No module named common",
     "output_type": "error",
     "traceback": [
      "\u001b[0;31m---------------------------------------------------------------------------\u001b[0m",
      "\u001b[0;31mImportError\u001b[0m                               Traceback (most recent call last)",
      "\u001b[0;32m<ipython-input-1-d4d15baeb38c>\u001b[0m in \u001b[0;36m<module>\u001b[0;34m()\u001b[0m\n\u001b[1;32m      1\u001b[0m \u001b[0;32mimport\u001b[0m \u001b[0mtensorflow\u001b[0m \u001b[0;32mas\u001b[0m \u001b[0mtf\u001b[0m\u001b[0;34m\u001b[0m\u001b[0m\n\u001b[0;32m----> 2\u001b[0;31m \u001b[0;32mimport\u001b[0m \u001b[0mcommon\u001b[0m\u001b[0;34m\u001b[0m\u001b[0m\n\u001b[0m",
      "\u001b[0;31mImportError\u001b[0m: No module named common"
     ]
    }
   ],
   "source": [
    "import tensorflow as tf\n",
    "import common\n"
   ]
  },
  {
   "cell_type": "code",
   "execution_count": 2,
   "metadata": {
    "collapsed": true
   },
   "outputs": [],
   "source": [
    "WINDOW_SHAPE=(64,128)"
   ]
  },
  {
   "cell_type": "code",
   "execution_count": 3,
   "metadata": {
    "collapsed": true
   },
   "outputs": [],
   "source": [
    "#UTILITY functions\n",
    "\n",
    "def weight_variable(shape):\n",
    "    initial=tf.truncated_normal(shape,stddev=0.1)\n",
    "    return tf.Variable(initial)"
   ]
  },
  {
   "cell_type": "code",
   "execution_count": 4,
   "metadata": {
    "collapsed": true
   },
   "outputs": [],
   "source": [
    "def bias_variable(shape):\n",
    "    initial=tf.constant(0.1,shape=shape)\n",
    "    return tf.Variable(initial)\n",
    "\n",
    "\n",
    "def conv2d(x,W,stride=(1,1), padding='SAME'):\n",
    "    return tf.nn.conv2d(x,W, strides=[1, stride[0], stride[1],1], padding=padding)\n",
    "\n",
    "\n",
    "def max_pool(x,ksize=(2,2), stride=(2,2)):\n",
    "    return tf.nn.max_pool(x, ksize=[1, ksize[0], ksize[1],1], strides=[1, stride[0], \n",
    "                                                                       stride[1],1], \n",
    "                          padding='SAME')\n",
    "\n",
    "def avg_pool(x, ksize=(2,2), stride=(2,2)):\n",
    "    return tf.nn.avg_pool(x, ksize=[1, ksize[0], ksize[1],1], strides=[1, stride[0], \n",
    "                                                                       stride[1],1], \n",
    "                          padding='SAME')\n",
    "\n",
    "def convolutional_layers():\n",
    "    #get convolutional layers of the model\n",
    "    \n",
    "    x=tf.placeholder(tf.float32,[None,None,None])\n",
    "    \n",
    "    #First layer\n",
    "    \n",
    "    w_conv1=weight_variable([5,5,1,48])\n",
    "    b_conv1=bias_variable([48])\n",
    "    x_expanded=tf.expand_dims(x,3)\n",
    "    h_conv1=tf.nn.relu(conv2d(x_expanded, w_conv1)+b_conv1)\n",
    "    h_pool1=max_pool(h_conv1, ksize=(2,2), stride=(2,2))\n",
    "    \n",
    "    \n",
    "    #second layer\n",
    "    \n",
    "    w_conv2=weight_variable([5,5,48,64])\n",
    "    b_conv2=bias_variable([64])\n",
    "    \n",
    "    \n",
    "    h_conv2=tf.nn.relu(conv2d(h_pool1, w_conv2)+b_conv2)\n",
    "    h_pool2=max_pool(h_conv2, ksize(2,1), stride=(2,1))\n",
    "    \n",
    "    #third layer\n",
    "    w_conv3=weight_variable([5,5,64,128])\n",
    "    b_conv3=bias_variable([128])\n",
    "    \n",
    "    h_conv3=tf.nn.relu(conv2d(h_pool2, w_conv3)+b_conv3)\n",
    "    h_pool3=max_pool(h_conv3, ksize(2,2), stride(2,2))\n",
    "    \n",
    "    return x, h_pool3, [w_conv1, b_conv1,w_conv2, b_conv2,w_conv3, b_conv3]\n"
   ]
  },
  {
   "cell_type": "code",
   "execution_count": null,
   "metadata": {
    "collapsed": true
   },
   "outputs": [],
   "source": []
  }
 ],
 "metadata": {
  "kernelspec": {
   "display_name": "Python 2",
   "language": "python",
   "name": "python2"
  },
  "language_info": {
   "codemirror_mode": {
    "name": "ipython",
    "version": 2
   },
   "file_extension": ".py",
   "mimetype": "text/x-python",
   "name": "python",
   "nbconvert_exporter": "python",
   "pygments_lexer": "ipython2",
   "version": "2.7.13"
  },
  "widgets": {
   "state": {},
   "version": "1.1.2"
  }
 },
 "nbformat": 4,
 "nbformat_minor": 2
}
