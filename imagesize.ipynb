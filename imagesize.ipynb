{
 "cells": [
  {
   "cell_type": "code",
   "execution_count": 1,
   "metadata": {
    "collapsed": true
   },
   "outputs": [],
   "source": [
    "import PIL\n",
    "from PIL import Image"
   ]
  },
  {
   "cell_type": "code",
   "execution_count": 31,
   "metadata": {
    "collapsed": false
   },
   "outputs": [],
   "source": [
    "img = Image.open(\"shoro.png\")\n",
    "longer_side = max(img.size)\n",
    "horizontal_padding = (longer_side - img.size[0]) / 2\n",
    "vertical_padding = (longer_side - img.size[1]) / 2\n",
    "img5 = img.crop(\n",
    "    (\n",
    "        -horizontal_padding,\n",
    "        -vertical_padding,\n",
    "        img.size[0] + horizontal_padding,\n",
    "        img.size[1] + vertical_padding\n",
    "    )\n",
    "\n",
    "    \n",
    ")\n",
    "img5.save(\"pad.png\")\n",
    "size = 28, 28\n",
    "img5.thumbnail(size, Image.ANTIALIAS)\n",
    "img5.save(\"resized_image1.png\")"
   ]
  },
  {
   "cell_type": "code",
   "execution_count": 23,
   "metadata": {
    "collapsed": false
   },
   "outputs": [],
   "source": [
    "basewidth = 28\n",
    "wpercent = (basewidth / float(img.size[0]))\n",
    "hsize = 28#int((float(img.size[1]) * float(wpercent)))\n",
    "img5 = img5.resize((basewidth, hsize), PIL.Image.ANTIALIAS)\n",
    "img5.save(\"resized_image.png\")"
   ]
  },
  {
   "cell_type": "code",
   "execution_count": 10,
   "metadata": {
    "collapsed": false
   },
   "outputs": [],
   "source": [
    "import os, sys\n",
    "size = 28, 28\n",
    "infile=\"shoro1.png\"\n",
    "#for infile in sys.argv[1:]:\n",
    "outfile = os.path.splitext(infile)[0] + \".thumbnail\"\n",
    "try:\n",
    "    im = Image.open(infile)\n",
    "    im.thumbnail(size, Image.ANTIALIAS)\n",
    "    im.save(\"beforePaddign1.png\")\n",
    "    background= Image.new('RGBA',size,(255,255,255,255)) #(0,0,0,255) for final version\n",
    "    background.paste(\n",
    "        im, (int((size[0]-im.size[0])/2), int((size[1]-im.size[1])/2))\n",
    "    )\n",
    "    background.save(outfile, \"PNG\")\n",
    "except IOError:\n",
    "    print \"cannot create thumbnail for '%s'\" % infile"
   ]
  },
  {
   "cell_type": "code",
   "execution_count": null,
   "metadata": {
    "collapsed": true
   },
   "outputs": [],
   "source": []
  }
 ],
 "metadata": {
  "kernelspec": {
   "display_name": "Python 2",
   "language": "python",
   "name": "python2"
  },
  "language_info": {
   "codemirror_mode": {
    "name": "ipython",
    "version": 2
   },
   "file_extension": ".py",
   "mimetype": "text/x-python",
   "name": "python",
   "nbconvert_exporter": "python",
   "pygments_lexer": "ipython2",
   "version": "2.7.13"
  },
  "widgets": {
   "state": {},
   "version": "1.1.2"
  }
 },
 "nbformat": 4,
 "nbformat_minor": 2
}
