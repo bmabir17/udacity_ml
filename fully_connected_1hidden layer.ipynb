{
 "cells": [
  {
   "cell_type": "code",
   "execution_count": null,
   "metadata": {
    "collapsed": true
   },
   "outputs": [],
   "source": []
  },
  {
   "cell_type": "code",
   "execution_count": 13,
   "metadata": {
    "collapsed": true
   },
   "outputs": [],
   "source": [
    "from __future__ import print_function\n",
    "import matplotlib.pyplot as plt\n",
    "import numpy as np\n",
    "import os\n",
    "import sys\n",
    "import tarfile \n",
    "import tensorflow as tf\n",
    "from six.moves import cPickle as pickle\n",
    "from six.moves import range \n"
   ]
  },
  {
   "cell_type": "code",
   "execution_count": 14,
   "metadata": {
    "collapsed": false
   },
   "outputs": [
    {
     "name": "stdout",
     "output_type": "stream",
     "text": [
      "train_dataset (200000, 28, 28) (200000,)\n",
      "validation set  (10000, 28, 28) (10000,)\n",
      "test set (10000, 28, 28) (10000,)\n"
     ]
    }
   ],
   "source": [
    "pickle_file='notMNIST.pickle'\n",
    "\n",
    "\n",
    "with open(pickle_file , 'rb') as f:\n",
    "    save=pickle.load(f)\n",
    "    train_dataset=save ['train_dataset']\n",
    "    train_labels=save ['train_labels']\n",
    "    valid_dataset=save ['valid_dataset']\n",
    "    valid_labels=save ['valid_labels']\n",
    "    test_dataset=save ['test_dataset']\n",
    "    test_labels=save ['test_labels']\n",
    "    del save #to help compiler to free up space \n",
    "    print('train_dataset', train_dataset.shape , train_labels.shape)\n",
    "    print('validation set ', valid_dataset.shape, valid_labels.shape)\n",
    "    print('test set', test_dataset.shape, test_labels.shape)"
   ]
  },
  {
   "cell_type": "code",
   "execution_count": 15,
   "metadata": {
    "collapsed": false
   },
   "outputs": [
    {
     "name": "stdout",
     "output_type": "stream",
     "text": [
      "Training set (200000, 784) (200000, 10)\n",
      "Validation set (10000, 784) (10000, 10)\n",
      "Test set (10000, 784) (10000, 10)\n"
     ]
    }
   ],
   "source": [
    "image_size = 28\n",
    "num_labels = 10\n",
    "\n",
    "def reformat(dataset, labels):\n",
    "    dataset = dataset.reshape((-1, image_size * image_size)).astype(np.float32)\n",
    "    # Map 0 to [1.0, 0.0, 0.0 ...], 1 to [0.0, 1.0, 0.0 ...]\n",
    "    labels = (np.arange(num_labels) == labels[:,None]).astype(np.float32)\n",
    "    return dataset, labels\n",
    "train_dataset, train_labels = reformat(train_dataset, train_labels)\n",
    "valid_dataset, valid_labels = reformat(valid_dataset, valid_labels)\n",
    "test_dataset, test_labels = reformat(test_dataset, test_labels)\n",
    "print('Training set', train_dataset.shape, train_labels.shape)\n",
    "print('Validation set', valid_dataset.shape, valid_labels.shape)\n",
    "print('Test set', test_dataset.shape, test_labels.shape)"
   ]
  },
  {
   "cell_type": "code",
   "execution_count": 16,
   "metadata": {
    "collapsed": false
   },
   "outputs": [],
   "source": [
    "log_dir='Hidden_1layer_log'\n",
    "def accuracy(predictions, labels):\n",
    "    return(100.0 * np.sum(np.argmax(predictions, 1)== np.argmax(labels, 1))/ predictions.shape[0])\n",
    "def variable_summaries(var):\n",
    "  \"\"\"Attach a lot of summaries to a Tensor (for TensorBoard visualization).\"\"\"\n",
    "  with tf.name_scope('summaries'):\n",
    "    mean = tf.reduce_mean(var)\n",
    "    tf.summary.scalar('mean', mean)\n",
    "    with tf.name_scope('stddev'):\n",
    "        stddev = tf.sqrt(tf.reduce_mean(tf.square(var - mean)))\n",
    "    tf.summary.scalar('stddev', stddev)\n",
    "    tf.summary.scalar('max', tf.reduce_max(var))\n",
    "    tf.summary.scalar('min', tf.reduce_min(var))\n",
    "    tf.summary.histogram('histogram', var)\n",
    "if tf.gfile.Exists(log_dir):\n",
    "    tf.gfile.DeleteRecursively(log_dir)\n",
    "    tf.gfile.MakeDirs(log_dir)"
   ]
  },
  {
   "cell_type": "code",
   "execution_count": null,
   "metadata": {
    "collapsed": false
   },
   "outputs": [
    {
     "name": "stdout",
     "output_type": "stream",
     "text": [
      "<tensorflow.python.framework.ops.Graph object at 0x7f6afae3a5d0>\n"
     ]
    }
   ],
   "source": [
    "batch_size=128\n",
    "num_nodes=1024\n",
    "#SGDSTEP=0.5\n",
    "#NumberofLayers=2 #(front layer+1 hidden layer)\n",
    "\n",
    "'''\n",
    "def weight_variable(shape):\n",
    "    initial=tf.truncated_normal(shape, stddev=0.1)\n",
    "    return tf.Variable(initial)\n",
    "def bias_variable(shape):\n",
    "    initial:tf.constant(0.1, shape=shape)\n",
    "        return tf.Variable(initial)\n",
    "        '''\n",
    "    \n",
    "graph=tf.Graph()\n",
    "with graph.as_default():\n",
    "    # Input data.For the training data,we use a placeholder to fed with a training mini batch\n",
    "    #at runtime with a training min i batch\n",
    "    tf_train_dataset= tf.placeholder(tf.float32, shape=(batch_size, image_size*image_size))\n",
    "    \n",
    "    tf_train_labels=tf.placeholder(tf.float32, shape=(batch_size, num_labels))\n",
    "    tf_valid_dataset=tf.constant(valid_dataset)\n",
    "    tf_test_dataset=tf.constant(test_dataset)\n",
    "    \n",
    "    with tf.name_scope('weights1'):\n",
    "        weights_1=tf.Variable(tf.truncated_normal([image_size*image_size,num_nodes]))\n",
    "        variable_summaries(weights_1)\n",
    "    with tf.name_scope('biases1'):\n",
    "        biases_1=tf.Variable(tf.zeros([num_nodes]))\n",
    "        variable_summaries(biases_1)\n",
    "    with tf.name_scope('weights2'):\n",
    "        weights_2=tf.Variable(tf.truncated_normal([num_nodes, num_labels]))\n",
    "        variable_summaries(weights_2)\n",
    "    with tf.name_scope('biases2'):\n",
    "        biases_2=tf.Variable(tf.zeros(num_labels))\n",
    "        variable_summaries(biases_2)\n",
    "    with tf.name_scope('W1x_plus_b1'):\n",
    "        preactivate = tf.matmul(tf_train_dataset,weights_1)+ biases_1\n",
    "        tf.summary.histogram('pre_activations1', preactivate)\n",
    "    relu_layer=tf.nn.relu(preactivate)\n",
    "    tf.summary.histogram('activations', relu_layer)\n",
    "    \n",
    "    #training Computation.\n",
    "    \n",
    "    logits=tf.matmul(relu_layer,weights_2)+biases_2\n",
    "    #loss=tf.reduce_mean(tf.nn.softmax_cross_entropy_with_logits(logits, tf_train_labels))\n",
    "    #loss = tf.reduce_mean(tf.nn.softmax_cross_entropy_with_logits(labels=tf_train_labels,logits=logits))\n",
    "    \n",
    "    \n",
    "    with tf.name_scope('cross_entropy'):\n",
    "        # The raw formulation of cross-entropy,\n",
    "        #\n",
    "        # tf.reduce_mean(-tf.reduce_sum(y_ * tf.log(tf.softmax(y)),\n",
    "        #                               reduction_indices=[1]))\n",
    "        #\n",
    "        # can be numerically unstable.\n",
    "        #\n",
    "        # So here we use tf.nn.softmax_cross_entropy_with_logits on the\n",
    "        # raw outputs of the nn_layer above, and then average across\n",
    "        # the batch.\n",
    "        with tf.name_scope('total'):\n",
    "            loss = tf.reduce_mean(tf.nn.softmax_cross_entropy_with_logits(logits=logits, labels=tf_train_labels))\n",
    "    tf.summary.scalar('cross_entropy', loss)\n",
    "\n",
    "    \n",
    "    #optimizer\n",
    "    with tf.name_scope('train'):\n",
    "        optimizer=tf.train.GradientDescentOptimizer(0.5).minimize(loss)\n",
    "    \n",
    "    #predictions for training\n",
    "    train_prediction=tf.nn.softmax(logits)\n",
    "    valid_prediction=tf.nn.softmax(tf.matmul(tf.nn.relu(tf.matmul(tf_valid_dataset, weights_1)+biases_1),weights_2)+biases_2)\n",
    "    test_predicton= tf.nn.softmax(tf.matmul(tf.nn.relu(tf.matmul(tf_test_dataset,weights_1)+biases_1),weights_2)+biases_2)\n",
    "    \n",
    "    \n",
    "   \n",
    "    \n",
    "   \n",
    "    print(graph)"
   ]
  },
  {
   "cell_type": "code",
   "execution_count": null,
   "metadata": {
    "collapsed": false
   },
   "outputs": [
    {
     "name": "stdout",
     "output_type": "stream",
     "text": [
      "Initialized\n",
      "41.6\n",
      "40.37\n",
      "46.65\n",
      "57.76\n",
      "68.19\n",
      "79.27\n",
      "81.13\n",
      "82.5\n",
      "77.59\n",
      "79.12\n",
      "81.85\n",
      "81.5\n",
      "76.11\n",
      "78.65\n",
      "76.52\n",
      "76.62\n",
      "80.77\n",
      "77.57\n",
      "79.92\n",
      "81.18\n",
      "79.92\n",
      "78.64\n",
      "81.03\n",
      "84.76\n",
      "84.13\n",
      "83.94\n",
      "83.85\n",
      "79.08\n",
      "81.5\n",
      "81.13\n",
      "82.77\n",
      "82.51\n",
      "83.71\n",
      "82.39\n",
      "83.02\n",
      "83.22\n",
      "83.94\n",
      "85.09\n",
      "86.77\n",
      "83.29\n",
      "84.55\n",
      "85.22\n",
      "81.0\n",
      "80.88\n",
      "80.43\n",
      "81.37\n",
      "84.72\n",
      "84.62\n",
      "83.65\n",
      "82.03\n",
      "81.2\n",
      "82.38\n",
      "77.82\n",
      "82.28\n",
      "81.71\n",
      "85.49\n",
      "82.39\n",
      "83.9\n",
      "84.13\n",
      "83.53\n",
      "82.97\n",
      "85.22\n",
      "85.8\n",
      "83.1\n",
      "83.98\n",
      "85.1\n",
      "82.44\n",
      "82.13\n",
      "84.06\n",
      "86.16\n",
      "86.03\n",
      "78.93\n",
      "82.36\n",
      "81.01\n",
      "82.76\n",
      "84.5\n",
      "84.75\n",
      "81.85\n",
      "83.4\n",
      "85.92\n"
     ]
    }
   ],
   "source": [
    "num_steps=30001\n",
    "\n",
    "\n",
    " \n",
    "\n",
    "with tf.Session(graph=graph) as session:\n",
    "    # Merge all the summaries and write them out to /tmp/mnist_logs (by default)\n",
    "    merged = tf.summary.merge_all()\n",
    "    train_writer = tf.summary.FileWriter(log_dir + '/train',session.graph)\n",
    "    test_writer = tf.summary.FileWriter(log_dir + '/test')\n",
    "    tf.global_variables_initializer().run()\n",
    "    print(\"Initialized\")\n",
    "    c=0\n",
    "    step_array=[]\n",
    "    accuracy_array=[]\n",
    "    \n",
    "    for step in range(num_steps):\n",
    "        #Pick an offset within taining data. which has been randomized.\n",
    "        # Note: we could use better randomization across epochs\n",
    "        offset= (step*batch_size) % (train_labels.shape[0] - batch_size) # we have used train_labels.shape[0] it is equal to the toatal no of image in the datasets\n",
    "        \n",
    "        #generate a minibatch , as SGD requires them\n",
    "        batch_data= train_dataset[offset:(offset+batch_size),:]\n",
    "        batch_labels= train_labels[offset:(offset+batch_size),:]\n",
    "        \n",
    "        #Prepare a dictionary telling the session where to feed the minibatch\n",
    "        # The Key of the dictinary is the placeholder node of the graph to be fed,\n",
    "        #and the value is the numpy array to feed to it.\n",
    "        feed_dict={tf_train_dataset: batch_data,tf_train_labels: batch_labels}\n",
    "        _,summary, l,predictions = session.run( [optimizer,merged,loss, train_prediction], feed_dict=feed_dict)\n",
    "        test_writer.add_summary(summary, step)\n",
    "        '''\n",
    "        if (step % 500==0):\n",
    "            miniAccuracy=accuracy( valid_prediction.eval(), valid_labels)\n",
    "            print(\"Minibatch loss at step %d: %f\" % (step,l))\n",
    "            print(\"Minibatch accurracy: %.1f%%\" % miniAccuracy)\n",
    "            print (c)\n",
    "            step_array.append(step)\n",
    "            accuracy_array.append(miniAccuracy)\n",
    "            c=c+1\n",
    "            plt.plot(step,miniAccuracy)\n",
    "        print(\"Test Accuracy: %.1f%%\" % accuracy(test_predicton.eval(),test_labels))\n",
    "        '''\n",
    "        print(accuracy(test_predicton.eval(),test_labels))\n",
    "        \n",
    "session.close()"
   ]
  },
  {
   "cell_type": "code",
   "execution_count": null,
   "metadata": {
    "collapsed": true
   },
   "outputs": [],
   "source": []
  }
 ],
 "metadata": {
  "kernelspec": {
   "display_name": "Python 2",
   "language": "python",
   "name": "python2"
  },
  "language_info": {
   "codemirror_mode": {
    "name": "ipython",
    "version": 2
   },
   "file_extension": ".py",
   "mimetype": "text/x-python",
   "name": "python",
   "nbconvert_exporter": "python",
   "pygments_lexer": "ipython2",
   "version": "2.7.13"
  },
  "widgets": {
   "state": {},
   "version": "1.1.2"
  }
 },
 "nbformat": 4,
 "nbformat_minor": 2
}
