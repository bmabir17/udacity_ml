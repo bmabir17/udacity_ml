{
 "cells": [
  {
   "cell_type": "code",
   "execution_count": 1,
   "metadata": {
    "collapsed": true
   },
   "outputs": [],
   "source": [
    "import cv2\n",
    "import sys\n",
    "import numpy as np"
   ]
  },
  {
   "cell_type": "code",
   "execution_count": 8,
   "metadata": {
    "collapsed": false
   },
   "outputs": [
    {
     "data": {
      "text/plain": [
       "True"
      ]
     },
     "execution_count": 8,
     "metadata": {},
     "output_type": "execute_result"
    }
   ],
   "source": [
    "img=cv2.imread('test4.jpg')\n",
    "mser= cv2.MSER_create()\n",
    "gray= cv2.cvtColor(img,cv2.COLOR_BGR2GRAY) #Converting to grayScale\n",
    "gray_img= img.copy()\n",
    "\n",
    "regions,_=mser.detectRegions(gray)\n",
    "hulls=[cv2.convexHull(p.reshape(-1,1,2)) for p in regions]\n",
    "cv2.polylines(gray_img, hulls,1,(0,255,0))\n",
    "cv2.imwrite('test4_detect.jpg', gray_img)"
   ]
  },
  {
   "cell_type": "code",
   "execution_count": 32,
   "metadata": {
    "collapsed": false
   },
   "outputs": [
    {
     "data": {
      "text/plain": [
       "255"
      ]
     },
     "execution_count": 32,
     "metadata": {},
     "output_type": "execute_result"
    }
   ],
   "source": [
    "img=cv2.imread('2.png')\n",
    "mser= cv2.MSER_create()\n",
    "gray= cv2.cvtColor(img,cv2.COLOR_BGR2GRAY) #Converting to grayScale\n",
    "histeq = cv2.equalizeHist(gray)\n",
    "cv2.imshow('input',img)\n",
    "cv2.imshow('Contrast image',histeq)\n",
    "cv2.waitKey(0)\n"
   ]
  },
  {
   "cell_type": "code",
   "execution_count": null,
   "metadata": {
    "collapsed": true
   },
   "outputs": [],
   "source": []
  }
 ],
 "metadata": {
  "kernelspec": {
   "display_name": "Python 2",
   "language": "python",
   "name": "python2"
  },
  "language_info": {
   "codemirror_mode": {
    "name": "ipython",
    "version": 2
   },
   "file_extension": ".py",
   "mimetype": "text/x-python",
   "name": "python",
   "nbconvert_exporter": "python",
   "pygments_lexer": "ipython2",
   "version": "2.7.13"
  },
  "widgets": {
   "state": {},
   "version": "1.1.2"
  }
 },
 "nbformat": 4,
 "nbformat_minor": 2
}
