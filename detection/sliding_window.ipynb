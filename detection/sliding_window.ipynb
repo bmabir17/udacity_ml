{
 "cells": [
  {
   "cell_type": "code",
   "execution_count": 2,
   "metadata": {
    "collapsed": false
   },
   "outputs": [
    {
     "ename": "IndexError",
     "evalue": "tuple index out of range",
     "output_type": "error",
     "traceback": [
      "\u001b[0;31m---------------------------------------------------------------------------\u001b[0m",
      "\u001b[0;31mIndexError\u001b[0m                                Traceback (most recent call last)",
      "\u001b[0;32m<ipython-input-2-942ff860cd5c>\u001b[0m in \u001b[0;36m<module>\u001b[0;34m()\u001b[0m\n\u001b[1;32m     48\u001b[0m \u001b[0;34m\u001b[0m\u001b[0m\n\u001b[1;32m     49\u001b[0m     \u001b[0;31m#whatever the camera resolution is, the camera size has to be of multiple of 28\u001b[0m\u001b[0;34m\u001b[0m\u001b[0;34m\u001b[0m\u001b[0m\n\u001b[0;32m---> 50\u001b[0;31m     \u001b[0mheight\u001b[0m \u001b[0;34m=\u001b[0m \u001b[0mint\u001b[0m\u001b[0;34m(\u001b[0m\u001b[0;34m(\u001b[0m\u001b[0mnp\u001b[0m\u001b[0;34m.\u001b[0m\u001b[0msize\u001b[0m\u001b[0;34m(\u001b[0m\u001b[0mframe\u001b[0m\u001b[0;34m,\u001b[0m \u001b[0;36m1\u001b[0m\u001b[0;34m)\u001b[0m\u001b[0;34m)\u001b[0m\u001b[0;34m/\u001b[0m\u001b[0;36m28\u001b[0m\u001b[0;34m)\u001b[0m\u001b[0;34m\u001b[0m\u001b[0m\n\u001b[0m\u001b[1;32m     51\u001b[0m     \u001b[0mwidth\u001b[0m \u001b[0;34m=\u001b[0m \u001b[0mint\u001b[0m\u001b[0;34m(\u001b[0m\u001b[0;34m(\u001b[0m\u001b[0mnp\u001b[0m\u001b[0;34m.\u001b[0m\u001b[0msize\u001b[0m\u001b[0;34m(\u001b[0m\u001b[0mframe\u001b[0m\u001b[0;34m,\u001b[0m \u001b[0;36m0\u001b[0m\u001b[0;34m)\u001b[0m\u001b[0;34m)\u001b[0m\u001b[0;34m/\u001b[0m\u001b[0;36m28\u001b[0m\u001b[0;34m)\u001b[0m\u001b[0;34m\u001b[0m\u001b[0m\n\u001b[1;32m     52\u001b[0m \u001b[0;34m\u001b[0m\u001b[0m\n",
      "\u001b[0;32m/home/somanianurmahal/.conda/envs/eyeCon/lib/python2.7/site-packages/numpy/core/fromnumeric.pyc\u001b[0m in \u001b[0;36msize\u001b[0;34m(a, axis)\u001b[0m\n\u001b[1;32m   2747\u001b[0m             \u001b[0;32mreturn\u001b[0m \u001b[0ma\u001b[0m\u001b[0;34m.\u001b[0m\u001b[0mshape\u001b[0m\u001b[0;34m[\u001b[0m\u001b[0maxis\u001b[0m\u001b[0;34m]\u001b[0m\u001b[0;34m\u001b[0m\u001b[0m\n\u001b[1;32m   2748\u001b[0m         \u001b[0;32mexcept\u001b[0m \u001b[0mAttributeError\u001b[0m\u001b[0;34m:\u001b[0m\u001b[0;34m\u001b[0m\u001b[0m\n\u001b[0;32m-> 2749\u001b[0;31m             \u001b[0;32mreturn\u001b[0m \u001b[0masarray\u001b[0m\u001b[0;34m(\u001b[0m\u001b[0ma\u001b[0m\u001b[0;34m)\u001b[0m\u001b[0;34m.\u001b[0m\u001b[0mshape\u001b[0m\u001b[0;34m[\u001b[0m\u001b[0maxis\u001b[0m\u001b[0;34m]\u001b[0m\u001b[0;34m\u001b[0m\u001b[0m\n\u001b[0m\u001b[1;32m   2750\u001b[0m \u001b[0;34m\u001b[0m\u001b[0m\n\u001b[1;32m   2751\u001b[0m \u001b[0;34m\u001b[0m\u001b[0m\n",
      "\u001b[0;31mIndexError\u001b[0m: tuple index out of range"
     ]
    }
   ],
   "source": [
    "#this program will take video feed,the feed will consist of huge number of frames\n",
    "#from each frame 28*28 sized 289 image chunks will be cut off by sliding window\n",
    "#the chunks will be stored into a python list in order to be further used by other programs\n",
    "\n",
    "import cv2\n",
    "import numpy as np\n",
    "\n",
    "#slider function\n",
    "def cut_image(img,y,bucket):\n",
    "    image = img\n",
    "    index = y\n",
    "    bkt = bucket\n",
    "    i = 0\n",
    "    j = 0\n",
    "\n",
    "    height = np.size(image, 0)\n",
    "    width = np.size(image, 1)\n",
    "\n",
    "    #z is row\n",
    "    #x is column\n",
    "\n",
    "    #the slider takes the first row, then slides through it, after \n",
    "    #that, it goes to the next row and does its thing.\n",
    "    for z in range(0,int(height/28)):\n",
    "        j = 0;\n",
    "        for x in range(0,int(width/28)):\n",
    "            cv2.imwrite('./Cropped_images/x'+str(index)+str(z)+str(x)+'.png',image[i:i+28,j:j+28])\n",
    "            #checking if the current piece/frame/chunk is all zero or not.if not, then take it\n",
    "            if(np.all(image[i:i+28,j:j+28]!=0)):\n",
    "                bkt.append(image[i:i+28,j:j+28])\n",
    "            #increment j in order to move the slide right by 28 pixels. going to the next '28 fat' column\t\n",
    "            j = j+28\n",
    "        #increment i in order to move slide down by 28 pixels. going to the next '28 high' row \t\n",
    "        i = i+28\n",
    "    return bkt\n",
    "\n",
    "\n",
    "\n",
    "cap = cv2.VideoCapture('test.mp4')\n",
    "cap.open(0)\n",
    "y = 0\n",
    "bucket = []\n",
    "frame_count=0\n",
    "\n",
    "while True:\n",
    "\n",
    "    ret,frame = cap.read()\n",
    "\n",
    "    #whatever the camera resolution is, the camera size has to be of multiple of 28\n",
    "    height = int((np.size(frame, 1))/28)\n",
    "    width = int((np.size(frame, 0))/28)\n",
    "\n",
    "    #take the minimum of the two, otherwise it will go out of bound\n",
    "    size = min([width,height])\n",
    "\n",
    "    #make new camera-frame size\n",
    "    new_frame = frame[0:28*size,0:28*size]\n",
    "\n",
    "    #show, not necessary\n",
    "    cv2.imshow('frame',new_frame)\n",
    "\n",
    "    #getting all the 'slided' pieces into a list i.e Bucket\n",
    "    bucket = cut_image(new_frame,y,bucket)\n",
    "\n",
    "    y = y+1\n",
    "    frame_count= frame_count+1\n",
    "    #press 'q' to stop the video feed!!!!!!!\n",
    "    if cv2.waitKey(1) & 0xFF == ord('q'):\n",
    "        break\n",
    "\n",
    "cap.release()\n",
    "cv2.destroyAllWindows()\n",
    "\n",
    "# accessing 300th 'frame' gotten from sliding window which is a box of 3 dimension \n",
    "# then accessing 20th row of that\n",
    "#print(bucket[300][20])\n",
    "\n"
   ]
  },
  {
   "cell_type": "code",
   "execution_count": null,
   "metadata": {
    "collapsed": true
   },
   "outputs": [],
   "source": []
  }
 ],
 "metadata": {
  "kernelspec": {
   "display_name": "Python 2",
   "language": "python",
   "name": "python2"
  },
  "language_info": {
   "codemirror_mode": {
    "name": "ipython",
    "version": 2
   },
   "file_extension": ".py",
   "mimetype": "text/x-python",
   "name": "python",
   "nbconvert_exporter": "python",
   "pygments_lexer": "ipython2",
   "version": "2.7.13"
  },
  "widgets": {
   "state": {},
   "version": "1.1.2"
  }
 },
 "nbformat": 4,
 "nbformat_minor": 2
}
