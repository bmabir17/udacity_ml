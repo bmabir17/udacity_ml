{
 "cells": [
  {
   "cell_type": "markdown",
   "metadata": {},
   "source": [
    "#  setup environment"
   ]
  },
  {
   "cell_type": "code",
   "execution_count": 1,
   "metadata": {
    "collapsed": true
   },
   "outputs": [],
   "source": [
    "from __future__ import print_function\n",
    "import matplotlib.pyplot as plt\n",
    "import numpy as np\n",
    "import os\n",
    "import sys\n",
    "import zipfile\n",
    "from IPython.display import display, Image\n",
    "from scipy import ndimage\n",
    "from sklearn.linear_model import LogisticRegression\n",
    "from six.moves.urllib.request import urlretrieve\n",
    "from six.moves import cPickle as pickle\n",
    "\n",
    "# Config the matplotlib backend as plotting inline in IPython\n",
    "%matplotlib inline"
   ]
  },
  {
   "cell_type": "markdown",
   "metadata": {},
   "source": [
    "# extracting bangla dataset "
   ]
  },
  {
   "cell_type": "code",
   "execution_count": 2,
   "metadata": {
    "collapsed": false
   },
   "outputs": [
    {
     "name": "stdout",
     "output_type": "stream",
     "text": [
      "extracting data ./BanglaLekha-Isolated/Images.this may take a while .please wait.\n",
      "['./BanglaLekha-Isolated/Images/1', './BanglaLekha-Isolated/Images/10', './BanglaLekha-Isolated/Images/11', './BanglaLekha-Isolated/Images/12', './BanglaLekha-Isolated/Images/13', './BanglaLekha-Isolated/Images/14', './BanglaLekha-Isolated/Images/15', './BanglaLekha-Isolated/Images/16', './BanglaLekha-Isolated/Images/17', './BanglaLekha-Isolated/Images/18', './BanglaLekha-Isolated/Images/19', './BanglaLekha-Isolated/Images/2', './BanglaLekha-Isolated/Images/20', './BanglaLekha-Isolated/Images/21', './BanglaLekha-Isolated/Images/22', './BanglaLekha-Isolated/Images/23', './BanglaLekha-Isolated/Images/24', './BanglaLekha-Isolated/Images/25', './BanglaLekha-Isolated/Images/26', './BanglaLekha-Isolated/Images/27', './BanglaLekha-Isolated/Images/28', './BanglaLekha-Isolated/Images/29', './BanglaLekha-Isolated/Images/3', './BanglaLekha-Isolated/Images/30', './BanglaLekha-Isolated/Images/31', './BanglaLekha-Isolated/Images/32', './BanglaLekha-Isolated/Images/33', './BanglaLekha-Isolated/Images/34', './BanglaLekha-Isolated/Images/35', './BanglaLekha-Isolated/Images/36', './BanglaLekha-Isolated/Images/37', './BanglaLekha-Isolated/Images/38', './BanglaLekha-Isolated/Images/39', './BanglaLekha-Isolated/Images/4', './BanglaLekha-Isolated/Images/40', './BanglaLekha-Isolated/Images/41', './BanglaLekha-Isolated/Images/42', './BanglaLekha-Isolated/Images/43', './BanglaLekha-Isolated/Images/44', './BanglaLekha-Isolated/Images/45', './BanglaLekha-Isolated/Images/46', './BanglaLekha-Isolated/Images/47', './BanglaLekha-Isolated/Images/48', './BanglaLekha-Isolated/Images/49', './BanglaLekha-Isolated/Images/5', './BanglaLekha-Isolated/Images/50', './BanglaLekha-Isolated/Images/51', './BanglaLekha-Isolated/Images/52', './BanglaLekha-Isolated/Images/53', './BanglaLekha-Isolated/Images/54', './BanglaLekha-Isolated/Images/55', './BanglaLekha-Isolated/Images/56', './BanglaLekha-Isolated/Images/57', './BanglaLekha-Isolated/Images/58', './BanglaLekha-Isolated/Images/59', './BanglaLekha-Isolated/Images/6', './BanglaLekha-Isolated/Images/60', './BanglaLekha-Isolated/Images/61', './BanglaLekha-Isolated/Images/62', './BanglaLekha-Isolated/Images/63', './BanglaLekha-Isolated/Images/64', './BanglaLekha-Isolated/Images/65', './BanglaLekha-Isolated/Images/66', './BanglaLekha-Isolated/Images/67', './BanglaLekha-Isolated/Images/68', './BanglaLekha-Isolated/Images/69', './BanglaLekha-Isolated/Images/7', './BanglaLekha-Isolated/Images/70', './BanglaLekha-Isolated/Images/71', './BanglaLekha-Isolated/Images/72', './BanglaLekha-Isolated/Images/73', './BanglaLekha-Isolated/Images/74', './BanglaLekha-Isolated/Images/75', './BanglaLekha-Isolated/Images/76', './BanglaLekha-Isolated/Images/77', './BanglaLekha-Isolated/Images/78', './BanglaLekha-Isolated/Images/79', './BanglaLekha-Isolated/Images/8', './BanglaLekha-Isolated/Images/80', './BanglaLekha-Isolated/Images/81', './BanglaLekha-Isolated/Images/82', './BanglaLekha-Isolated/Images/83', './BanglaLekha-Isolated/Images/84', './BanglaLekha-Isolated/Images/9']\n"
     ]
    }
   ],
   "source": [
    "num_classes=84\n",
    "np.random.seed(133)\n",
    "data_root='.'\n",
    "full_filename=os.path.join(data_root, 'BanglaLekha-Isolated.zip')\n",
    "\n",
    "\n",
    "def maybe_extract(filename, force=False):\n",
    "    root=os.path.splitext(os.path.splitext(filename)[0])[0]\n",
    "    root=root+'/Images' #as the classesdata are in images folder\n",
    "    if os.path.isdir(root)and not force:\n",
    "        print('%s already present - Skipping extraction of %s' %(root, filename))\n",
    "    else:\n",
    "        print('extracting data %s.this may take a while .please wait.' %root)\n",
    "        zip=zipfile.ZipFile(filename)\n",
    "        sys.stdout.flush()\n",
    "        zip.extractall(data_root)\n",
    "        zip.close()\n",
    "    data_folders = [\n",
    "        os.path.join(root, d)for d in sorted(os.listdir(root)) #listing all the classes directory\n",
    "        if os.path.isdir(os.path.join(root, d))]\n",
    "    if len(data_folders) !=num_classes: #checks lengths\n",
    "        raise Exception(\n",
    "            'Expected %d folders , one per class. found %d instead.' % (\n",
    "                num_classes,len(data_folders)))\n",
    "    print(data_folders)\n",
    "    return data_folders\n",
    "\n",
    "full_folders=maybe_extract(full_filename)\n",
    "        "
   ]
  },
  {
   "cell_type": "markdown",
   "metadata": {},
   "source": [
    "# Convert images into npArray and save into pickle file with separate class\n"
   ]
  },
  {
   "cell_type": "code",
   "execution_count": null,
   "metadata": {
    "collapsed": true
   },
   "outputs": [],
   "source": [
    "image_size=28 #pixel width and height \n",
    "pixel_depth=255.0 #Number of levels per pixel\n"
   ]
  },
  {
   "cell_type": "code",
   "execution_count": null,
   "metadata": {
    "collapsed": true
   },
   "outputs": [],
   "source": []
  }
 ],
 "metadata": {
  "kernelspec": {
   "display_name": "Python 2",
   "language": "python",
   "name": "python2"
  },
  "language_info": {
   "codemirror_mode": {
    "name": "ipython",
    "version": 2
   },
   "file_extension": ".py",
   "mimetype": "text/x-python",
   "name": "python",
   "nbconvert_exporter": "python",
   "pygments_lexer": "ipython2",
   "version": "2.7.13"
  },
  "widgets": {
   "state": {},
   "version": "1.1.2"
  }
 },
 "nbformat": 4,
 "nbformat_minor": 2
}
