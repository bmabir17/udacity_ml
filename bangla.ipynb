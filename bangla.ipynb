{
 "cells": [
  {
   "cell_type": "markdown",
   "metadata": {},
   "source": [
    "#  setup environment"
   ]
  },
  {
   "cell_type": "code",
   "execution_count": 6,
   "metadata": {
    "collapsed": true
   },
   "outputs": [],
   "source": [
    "from __future__ import print_function\n",
    "import matplotlib.pyplot as plt\n",
    "import numpy as np\n",
    "import os\n",
    "import sys\n",
    "import zipfile\n",
    "from IPython.display import display, Image\n",
    "from scipy import ndimage\n",
    "from sklearn.linear_model import LogisticRegression\n",
    "from six.moves.urllib.request import urlretrieve\n",
    "from six.moves import cPickle as pickle\n",
    "\n",
    "# Config the matplotlib backend as plotting inline in IPython\n",
    "%matplotlib inline"
   ]
  },
  {
   "cell_type": "markdown",
   "metadata": {},
   "source": [
    "# extracting bangla dataset "
   ]
  },
  {
   "cell_type": "code",
   "execution_count": 13,
   "metadata": {
    "collapsed": false
   },
   "outputs": [
    {
     "name": "stdout",
     "output_type": "stream",
     "text": [
      "./bangla/Images already present - Skipping extraction of ./bangla.zip\n",
      "['./bangla/Images/1', './bangla/Images/10', './bangla/Images/11', './bangla/Images/12', './bangla/Images/13', './bangla/Images/14', './bangla/Images/15', './bangla/Images/16', './bangla/Images/17', './bangla/Images/18', './bangla/Images/19', './bangla/Images/2', './bangla/Images/20', './bangla/Images/21', './bangla/Images/22', './bangla/Images/23', './bangla/Images/24', './bangla/Images/25', './bangla/Images/26', './bangla/Images/27', './bangla/Images/28', './bangla/Images/29', './bangla/Images/3', './bangla/Images/30', './bangla/Images/31', './bangla/Images/32', './bangla/Images/33', './bangla/Images/34', './bangla/Images/35', './bangla/Images/36', './bangla/Images/37', './bangla/Images/38', './bangla/Images/39', './bangla/Images/4', './bangla/Images/40', './bangla/Images/41', './bangla/Images/42', './bangla/Images/43', './bangla/Images/44', './bangla/Images/45', './bangla/Images/46', './bangla/Images/47', './bangla/Images/48', './bangla/Images/49', './bangla/Images/5', './bangla/Images/50', './bangla/Images/51', './bangla/Images/52', './bangla/Images/53', './bangla/Images/54', './bangla/Images/55', './bangla/Images/56', './bangla/Images/57', './bangla/Images/58', './bangla/Images/59', './bangla/Images/6', './bangla/Images/60', './bangla/Images/61', './bangla/Images/62', './bangla/Images/63', './bangla/Images/64', './bangla/Images/65', './bangla/Images/66', './bangla/Images/67', './bangla/Images/68', './bangla/Images/69', './bangla/Images/7', './bangla/Images/70', './bangla/Images/71', './bangla/Images/72', './bangla/Images/73', './bangla/Images/74', './bangla/Images/75', './bangla/Images/76', './bangla/Images/77', './bangla/Images/78', './bangla/Images/79', './bangla/Images/8', './bangla/Images/80', './bangla/Images/81', './bangla/Images/82', './bangla/Images/83', './bangla/Images/84', './bangla/Images/9']\n"
     ]
    }
   ],
   "source": [
    "num_classes=84\n",
    "np.random.seed(133)\n",
    "data_root='.'\n",
    "full_filename=os.path.join(data_root, 'bangla.zip')\n",
    "\n",
    "\n",
    "def maybe_extract(filename, force=False):\n",
    "    root=os.path.splitext(os.path.splitext(filename)[0])[0]\n",
    "    root=root+'/Images' #as the classesdata are in images folder\n",
    "    if os.path.isdir(root)and not force:\n",
    "        print('%s already present - Skipping extraction of %s' %(root, filename))\n",
    "    else:\n",
    "        print('extracting data %s.this may take a while .please wait.' %root)\n",
    "        zip=zipfile.ZipFile(filename)\n",
    "        sys.stdout.flush()\n",
    "        zip.extractall(data_root)\n",
    "        zip.close()\n",
    "    data_folders = [\n",
    "        os.path.join(root, d)for d in sorted(os.listdir(root)) #listing all the classes directory\n",
    "        if os.path.isdir(os.path.join(root, d))]\n",
    "    if len(data_folders) !=num_classes: #checks lengths\n",
    "        raise Exception(\n",
    "            'Expected %d folders , one per class. found %d instead.' % (\n",
    "                num_classes,len(data_folders)))\n",
    "    print(data_folders)\n",
    "    return data_folders\n",
    "\n",
    "full_folders=maybe_extract(full_filename)\n",
    "        "
   ]
  },
  {
   "cell_type": "markdown",
   "metadata": {},
   "source": [
    "# Convert images into npArray and save into pickle file with separate class\n"
   ]
  },
  {
   "cell_type": "code",
   "execution_count": null,
   "metadata": {
    "collapsed": true
   },
   "outputs": [],
   "source": [
    "image_size=28 #pixel width and height \n",
    "pixel_depth=255.0 #Number of levels per pixel\n"
   ]
  },
  {
   "cell_type": "code",
   "execution_count": null,
   "metadata": {
    "collapsed": true
   },
   "outputs": [],
   "source": []
  }
 ],
 "metadata": {
  "kernelspec": {
   "display_name": "Python 2",
   "language": "python",
   "name": "python2"
  },
  "language_info": {
   "codemirror_mode": {
    "name": "ipython",
    "version": 2
   },
   "file_extension": ".py",
   "mimetype": "text/x-python",
   "name": "python",
   "nbconvert_exporter": "python",
   "pygments_lexer": "ipython2",
   "version": "2.7.13"
  }
 },
 "nbformat": 4,
 "nbformat_minor": 2
}
