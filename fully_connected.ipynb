{
 "cells": [
  {
   "cell_type": "markdown",
   "metadata": {},
   "source": [
    "#  Deep Learning\n",
    "Assignment 2¶\n",
    "Previously in 1_notmnist.ipynb, we created a pickle with formatted datasets for training, development and testing on the notMNIST dataset.\n",
    "The goal of this assignment is to progressively train deeper and more accurate models using TensorFlow."
   ]
  },
  {
   "cell_type": "code",
   "execution_count": 1,
   "metadata": {
    "collapsed": false
   },
   "outputs": [],
   "source": [
    "from __future__ import print_function\n",
    "import matplotlib.pyplot as plt\n",
    "import numpy as np\n",
    "import os\n",
    "import sys\n",
    "import tarfile \n",
    "import tensorflow as tf\n",
    "from six.moves import cPickle as pickle\n",
    "from six.moves import range "
   ]
  },
  {
   "cell_type": "markdown",
   "metadata": {
    "collapsed": true
   },
   "source": [
    "Reload the data we genereted in the pickle file "
   ]
  },
  {
   "cell_type": "code",
   "execution_count": 3,
   "metadata": {
    "collapsed": false
   },
   "outputs": [
    {
     "name": "stdout",
     "output_type": "stream",
     "text": [
      "train_dataset (200000, 28, 28) (200000,)\n",
      "validation set  (10000, 28, 28) (10000,)\n",
      "test set (10000, 28, 28) (10000,)\n"
     ]
    }
   ],
   "source": [
    "pickle_file='notMNIST.pickle'\n",
    "\n",
    "\n",
    "with open(pickle_file , 'rb') as f:\n",
    "    save=pickle.load(f)\n",
    "    train_dataset=save ['train_dataset']\n",
    "    train_labels=save ['train_labels']\n",
    "    valid_dataset=save ['valid_dataset']\n",
    "    valid_labels=save ['valid_labels']\n",
    "    test_dataset=save ['test_dataset']\n",
    "    test_labels=save ['test_labels']\n",
    "    del save #to help compiler to free up space \n",
    "    print('train_dataset', train_dataset.shape , train_labels.shape)\n",
    "    print('validation set ', valid_dataset.shape, valid_labels.shape)\n",
    "    print('test set', test_dataset.shape, test_labels.shape)"
   ]
  },
  {
   "cell_type": "markdown",
   "metadata": {},
   "source": [
    "#  reformat into a shape that is more adapted to the models we are going to train"
   ]
  },
  {
   "cell_type": "code",
   "execution_count": null,
   "metadata": {
    "collapsed": true
   },
   "outputs": [],
   "source": []
  }
 ],
 "metadata": {
  "kernelspec": {
   "display_name": "Python 2",
   "language": "python",
   "name": "python2"
  },
  "language_info": {
   "codemirror_mode": {
    "name": "ipython",
    "version": 2
   },
   "file_extension": ".py",
   "mimetype": "text/x-python",
   "name": "python",
   "nbconvert_exporter": "python",
   "pygments_lexer": "ipython2",
   "version": "2.7.13"
  },
  "widgets": {
   "state": {},
   "version": "1.1.2"
  }
 },
 "nbformat": 4,
 "nbformat_minor": 2
}
